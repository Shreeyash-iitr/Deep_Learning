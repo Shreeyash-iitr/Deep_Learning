{
  "nbformat": 4,
  "nbformat_minor": 0,
  "metadata": {
    "colab": {
      "name": "Cats_V_S_Dogs.ipynb",
      "version": "0.3.2",
      "provenance": [],
      "collapsed_sections": [],
      "include_colab_link": true
    },
    "kernelspec": {
      "name": "python3",
      "display_name": "Python 3"
    },
    "accelerator": "GPU"
  },
  "cells": [
    {
      "cell_type": "markdown",
      "metadata": {
        "id": "view-in-github",
        "colab_type": "text"
      },
      "source": [
        "[View in Colaboratory](https://colab.research.google.com/github/Shreeyash-iitr/Deep_Learning/blob/master/Cats_V_S_Dogs.ipynb)"
      ]
    },
    {
      "metadata": {
        "id": "qcHl86MSYBET",
        "colab_type": "code",
        "colab": {}
      },
      "cell_type": "code",
      "source": [
        "from google.colab import files"
      ],
      "execution_count": 0,
      "outputs": []
    },
    {
      "metadata": {
        "id": "ib_mUR0nYG0J",
        "colab_type": "code",
        "colab": {
          "resources": {
            "http://localhost:8080/nbextensions/google.colab/files.js": {
              "data": "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",
              "ok": true,
              "headers": [
                [
                  "content-type",
                  "application/javascript"
                ]
              ],
              "status": 200,
              "status_text": ""
            }
          },
          "base_uri": "https://localhost:8080/",
          "height": 90
        },
        "outputId": "d9d1047f-b30e-4fad-dc3d-01bf26ad9f4f"
      },
      "cell_type": "code",
      "source": [
        "files.upload()"
      ],
      "execution_count": 3,
      "outputs": [
        {
          "output_type": "display_data",
          "data": {
            "text/html": [
              "\n",
              "     <input type=\"file\" id=\"files-393f709e-60ae-434a-b88b-21980cdbcdb7\" name=\"files[]\" multiple disabled />\n",
              "     <output id=\"result-393f709e-60ae-434a-b88b-21980cdbcdb7\">\n",
              "      Upload widget is only available when the cell has been executed in the\n",
              "      current browser session. Please rerun this cell to enable.\n",
              "      </output>\n",
              "      <script src=\"/nbextensions/google.colab/files.js\"></script> "
            ],
            "text/plain": [
              "<IPython.core.display.HTML object>"
            ]
          },
          "metadata": {
            "tags": []
          }
        },
        {
          "output_type": "stream",
          "text": [
            "Saving kaggle.json to kaggle.json\n"
          ],
          "name": "stdout"
        },
        {
          "output_type": "execute_result",
          "data": {
            "text/plain": [
              "{'kaggle.json': b'{\"username\":\"shreeyash6199\",\"key\":\"fa0ace82f613ab882fd3fb0b94916db0\"}'}"
            ]
          },
          "metadata": {
            "tags": []
          },
          "execution_count": 3
        }
      ]
    },
    {
      "metadata": {
        "id": "LrDe5by2YKv-",
        "colab_type": "code",
        "colab": {}
      },
      "cell_type": "code",
      "source": [
        "!pip install -q kaggle"
      ],
      "execution_count": 0,
      "outputs": []
    },
    {
      "metadata": {
        "id": "ttj_yNmAYTW-",
        "colab_type": "code",
        "colab": {}
      },
      "cell_type": "code",
      "source": [
        "!mkdir -p ~/.kaggle"
      ],
      "execution_count": 0,
      "outputs": []
    },
    {
      "metadata": {
        "id": "AEeewa2GYcvt",
        "colab_type": "code",
        "colab": {}
      },
      "cell_type": "code",
      "source": [
        "!cp kaggle.json ~/.kaggle/"
      ],
      "execution_count": 0,
      "outputs": []
    },
    {
      "metadata": {
        "id": "chvxHf-O9iBp",
        "colab_type": "text"
      },
      "cell_type": "markdown",
      "source": [
        ">Now download kaggle dataset."
      ]
    },
    {
      "metadata": {
        "id": "GFSBLQhDYzY1",
        "colab_type": "code",
        "colab": {
          "base_uri": "https://localhost:8080/",
          "height": 193
        },
        "outputId": "89cedd30-cab8-445d-949c-ffa307aba57f"
      },
      "cell_type": "code",
      "source": [
        "!kaggle competitions download -c dogs-vs-cats-redux-kernels-edition"
      ],
      "execution_count": 7,
      "outputs": [
        {
          "output_type": "stream",
          "text": [
            "Warning: Your Kaggle API key is readable by otherusers on this system! To fix this, you can run'chmod 600 /root/.kaggle/kaggle.json'\n",
            "Downloading test.zip to /content\n",
            " 94%|██████████████████████████████████████▍  | 254M/271M [00:02<00:00, 118MB/s]\n",
            "100%|█████████████████████████████████████████| 271M/271M [00:02<00:00, 132MB/s]\n",
            "Downloading train.zip to /content\n",
            " 99%|████████████████████████████████████████▋| 539M/544M [00:04<00:00, 189MB/s]\n",
            "100%|█████████████████████████████████████████| 544M/544M [00:04<00:00, 140MB/s]\n",
            "Downloading sample_submission.csv to /content\n",
            "  0%|                                                | 0.00/111k [00:00<?, ?B/s]\n",
            "100%|████████████████████████████████████████| 111k/111k [00:00<00:00, 53.2MB/s]\n"
          ],
          "name": "stdout"
        }
      ]
    },
    {
      "metadata": {
        "id": "1BonJuTAZI_r",
        "colab_type": "code",
        "colab": {}
      },
      "cell_type": "code",
      "source": [
        "!ls train"
      ],
      "execution_count": 0,
      "outputs": []
    },
    {
      "metadata": {
        "id": "JAo4VHK5a9Jm",
        "colab_type": "code",
        "colab": {}
      },
      "cell_type": "code",
      "source": [
        "!unzip test.zip"
      ],
      "execution_count": 0,
      "outputs": []
    },
    {
      "metadata": {
        "id": "HUNg_EMCbBnx",
        "colab_type": "code",
        "colab": {}
      },
      "cell_type": "code",
      "source": [
        "!unzip train.zip"
      ],
      "execution_count": 0,
      "outputs": []
    },
    {
      "metadata": {
        "id": "F6bp8Ve3-Wiw",
        "colab_type": "text"
      },
      "cell_type": "markdown",
      "source": [
        "\n",
        "\n",
        "*   import all required libraries \n",
        "*   we will use tensorflow layers framework.\n",
        "\n"
      ]
    },
    {
      "metadata": {
        "id": "U_FSMaPgauJf",
        "colab_type": "code",
        "colab": {}
      },
      "cell_type": "code",
      "source": [
        "import os\n",
        "import cv2\n",
        "import random\n",
        "import numpy\n",
        "import pickle\n",
        "import matplotlib.pyplot as plt\n",
        "import keras\n",
        "from keras.models import Sequential\n",
        "from keras import layers\n",
        "%matplotlib inline"
      ],
      "execution_count": 0,
      "outputs": []
    },
    {
      "metadata": {
        "id": "K4fJ-I3lAA35",
        "colab_type": "text"
      },
      "cell_type": "markdown",
      "source": [
        "\n",
        "\n",
        "> **Preprocessing Images**\n",
        "\n",
        "> >resizing images to shape (100,100,3) and then storing dataset into a numpy array. OpenCV is used for basic processing on images.\n",
        "\n"
      ]
    },
    {
      "metadata": {
        "id": "kP0Byl27c2d8",
        "colab_type": "code",
        "colab": {}
      },
      "cell_type": "code",
      "source": [
        "images = []\n",
        "labels = []\n",
        "\n",
        "for img in os.listdir('train/'):\n",
        "    path = \"train/\" + str(img) \n",
        "    image = cv2.imread(str(path))\n",
        "    image = cv2.cvtColor(image, cv2.COLOR_BGR2RGB)\n",
        "    image = cv2.resize(image,(64,64))\n",
        "    images.append(image)\n",
        "    if img[:3] == \"cat\":                  # cat >> 0\n",
        "        labels.append(int(0))\n",
        "    elif img[:3] == \"dog\":                # dog >> 1\n",
        "        labels.append(int(1))\n",
        "\n",
        "images = numpy.array(images)\n",
        "labels = numpy.array(labels)        "
      ],
      "execution_count": 0,
      "outputs": []
    },
    {
      "metadata": {
        "id": "o99TJLMGAczt",
        "colab_type": "text"
      },
      "cell_type": "markdown",
      "source": [
        "> > Note that here I am reshaping y_train and y_test array to [-1,1] because it will convert its shape from (?, ) to (?, 1). It will reduce future errors. "
      ]
    },
    {
      "metadata": {
        "id": "A13344MyeF4V",
        "colab_type": "code",
        "colab": {}
      },
      "cell_type": "code",
      "source": [
        "import sklearn.cross_validation\n",
        "X_train, X_test, y_train, y_test = sklearn.cross_validation.train_test_split(images, labels, test_size=0.05)\n",
        "y_train = numpy.asarray(y_train, dtype = 'int')\n",
        "y_train = numpy.reshape(y_train,[-1,1])\n",
        "y_test = numpy.reshape(y_test,[-1,1])\n"
      ],
      "execution_count": 0,
      "outputs": []
    },
    {
      "metadata": {
        "id": "NSdy3-y1egq9",
        "colab_type": "code",
        "colab": {
          "base_uri": "https://localhost:8080/",
          "height": 287
        },
        "outputId": "4d37d565-41b4-4d42-d950-a60c17330344"
      },
      "cell_type": "code",
      "source": [
        "gray = cv2.cvtColor(X_test[1], cv2.COLOR_BGR2GRAY)\n",
        "plt.imshow(gray)\n",
        "y_test[1]"
      ],
      "execution_count": 42,
      "outputs": [
        {
          "output_type": "execute_result",
          "data": {
            "text/plain": [
              "array([0])"
            ]
          },
          "metadata": {
            "tags": []
          },
          "execution_count": 42
        },
        {
          "output_type": "display_data",
          "data": {
            "image/png": "[encoded data removed]",
            "text/plain": [
              "<matplotlib.figure.Figure at 0x7f420a2a7160>"
            ]
          },
          "metadata": {
            "tags": []
          }
        }
      ]
    },
    {
      "metadata": {
        "id": "HkuATUHXaJU8",
        "colab_type": "code",
        "colab": {}
      },
      "cell_type": "code",
      "source": [
        "X_train = X_train/255\n",
        "X_test = X_test/255"
      ],
      "execution_count": 0,
      "outputs": []
    },
    {
      "metadata": {
        "id": "kgPmm4ZDD0sq",
        "colab_type": "code",
        "colab": {}
      },
      "cell_type": "code",
      "source": [
        "model = Sequential()\n",
        "model.add(layers.Conv2D(filters=32, kernel_size=3,activation=layers.activations.relu,data_format='channels_last',input_shape=[64,64,3]))\n",
        "model.add(layers.MaxPool2D(pool_size=2,strides=2))\n",
        "model.add(layers.Conv2D(filters=64, kernel_size=3,activation=layers.activations.relu))\n",
        "model.add(layers.MaxPool2D(pool_size=2,strides=2))\n",
        "model.add(layers.Conv2D(filters=128, kernel_size=3,activation=layers.activations.relu))\n",
        "model.add(layers.MaxPool2D(pool_size=2,strides=2))\n",
        "model.add(layers.Conv2D(filters=512, kernel_size=3,activation=layers.activations.relu))\n",
        "model.add(layers.MaxPool2D(pool_size=2,strides=2))\n",
        "model.add(layers.Flatten())\n",
        "model.add(layers.Dense(128,activation=layers.activations.relu))\n",
        "model.add(layers.Dense(128,activation=layers.activations.relu))\n",
        "model.add(layers.Dense(2, activation=layers.activations.softmax))"
      ],
      "execution_count": 0,
      "outputs": []
    },
    {
      "metadata": {
        "id": "MCKfrWBKJNLr",
        "colab_type": "code",
        "colab": {}
      },
      "cell_type": "code",
      "source": [
        "model.compile(optimizer = keras.optimizers.Adam(lr=1e-5),loss = keras.losses.sparse_categorical_crossentropy,metrics=['accuracy'])"
      ],
      "execution_count": 0,
      "outputs": []
    },
    {
      "metadata": {
        "id": "bjZI0al1KVC4",
        "colab_type": "code",
        "colab": {}
      },
      "cell_type": "code",
      "source": [
        "from keras.callbacks import TensorBoard\n",
        "from time import time\n",
        "tensorboard_ = TensorBoard(log_dir=\"logs/{}\".format(time()))"
      ],
      "execution_count": 0,
      "outputs": []
    },
    {
      "metadata": {
        "id": "RW0SHkHUHeXB",
        "colab_type": "code",
        "colab": {
          "base_uri": "https://localhost:8080/",
          "height": 3788
        },
        "outputId": "e7d3eb22-6ac6-455e-ff4a-ccea3e4fac5e"
      },
      "cell_type": "code",
      "source": [
        "model.fit(x=X_train, y=y_train, batch_size=128, epochs=100,verbose=2,validation_split = 0.1, callbacks=[tensorboard_])\n"
      ],
      "execution_count": 68,
      "outputs": [
        {
          "output_type": "stream",
          "text": [
            "Train on 21375 samples, validate on 2375 samples\n",
            "Epoch 1/100\n",
            " - 9s - loss: 0.3762 - acc: 0.8351 - val_loss: 0.4274 - val_acc: 0.8034\n",
            "Epoch 2/100\n",
            " - 9s - loss: 0.3733 - acc: 0.8383 - val_loss: 0.4247 - val_acc: 0.8025\n",
            "Epoch 3/100\n",
            " - 9s - loss: 0.3726 - acc: 0.8366 - val_loss: 0.4302 - val_acc: 0.8008\n",
            "Epoch 4/100\n",
            " - 9s - loss: 0.3685 - acc: 0.8406 - val_loss: 0.4217 - val_acc: 0.8029\n",
            "Epoch 5/100\n",
            " - 9s - loss: 0.3680 - acc: 0.8400 - val_loss: 0.4249 - val_acc: 0.8059\n",
            "Epoch 6/100\n",
            " - 9s - loss: 0.3687 - acc: 0.8372 - val_loss: 0.4207 - val_acc: 0.8059\n",
            "Epoch 7/100\n",
            " - 9s - loss: 0.3693 - acc: 0.8363 - val_loss: 0.4262 - val_acc: 0.7987\n",
            "Epoch 8/100\n",
            " - 9s - loss: 0.3646 - acc: 0.8401 - val_loss: 0.4195 - val_acc: 0.8067\n",
            "Epoch 9/100\n",
            " - 9s - loss: 0.3597 - acc: 0.8451 - val_loss: 0.4222 - val_acc: 0.8042\n",
            "Epoch 10/100\n",
            " - 9s - loss: 0.3580 - acc: 0.8464 - val_loss: 0.4206 - val_acc: 0.8063\n",
            "Epoch 11/100\n",
            " - 9s - loss: 0.3534 - acc: 0.8494 - val_loss: 0.4221 - val_acc: 0.7996\n",
            "Epoch 12/100\n",
            " - 9s - loss: 0.3530 - acc: 0.8485 - val_loss: 0.4269 - val_acc: 0.8013\n",
            "Epoch 13/100\n",
            " - 9s - loss: 0.3494 - acc: 0.8487 - val_loss: 0.4156 - val_acc: 0.8093\n",
            "Epoch 14/100\n",
            " - 9s - loss: 0.3482 - acc: 0.8510 - val_loss: 0.4185 - val_acc: 0.8021\n",
            "Epoch 15/100\n",
            " - 9s - loss: 0.3465 - acc: 0.8501 - val_loss: 0.4150 - val_acc: 0.8105\n",
            "Epoch 16/100\n",
            " - 9s - loss: 0.3451 - acc: 0.8517 - val_loss: 0.4167 - val_acc: 0.8034\n",
            "Epoch 17/100\n",
            " - 9s - loss: 0.3436 - acc: 0.8516 - val_loss: 0.4144 - val_acc: 0.8059\n",
            "Epoch 18/100\n",
            " - 9s - loss: 0.3397 - acc: 0.8558 - val_loss: 0.4236 - val_acc: 0.8114\n",
            "Epoch 19/100\n",
            " - 9s - loss: 0.3357 - acc: 0.8586 - val_loss: 0.4120 - val_acc: 0.8114\n",
            "Epoch 20/100\n",
            " - 9s - loss: 0.3383 - acc: 0.8563 - val_loss: 0.4436 - val_acc: 0.8021\n",
            "Epoch 21/100\n",
            " - 9s - loss: 0.3327 - acc: 0.8582 - val_loss: 0.4168 - val_acc: 0.8021\n",
            "Epoch 22/100\n",
            " - 9s - loss: 0.3351 - acc: 0.8571 - val_loss: 0.4130 - val_acc: 0.8067\n",
            "Epoch 23/100\n",
            " - 9s - loss: 0.3265 - acc: 0.8618 - val_loss: 0.4122 - val_acc: 0.8101\n",
            "Epoch 24/100\n",
            " - 9s - loss: 0.3320 - acc: 0.8565 - val_loss: 0.4139 - val_acc: 0.8088\n",
            "Epoch 25/100\n",
            " - 9s - loss: 0.3232 - acc: 0.8655 - val_loss: 0.4338 - val_acc: 0.7983\n",
            "Epoch 26/100\n",
            " - 9s - loss: 0.3297 - acc: 0.8590 - val_loss: 0.4179 - val_acc: 0.8013\n",
            "Epoch 27/100\n",
            " - 9s - loss: 0.3211 - acc: 0.8648 - val_loss: 0.4207 - val_acc: 0.8013\n",
            "Epoch 28/100\n",
            " - 9s - loss: 0.3220 - acc: 0.8628 - val_loss: 0.4173 - val_acc: 0.8034\n",
            "Epoch 29/100\n",
            " - 9s - loss: 0.3161 - acc: 0.8698 - val_loss: 0.4127 - val_acc: 0.8105\n",
            "Epoch 30/100\n",
            " - 9s - loss: 0.3168 - acc: 0.8665 - val_loss: 0.4162 - val_acc: 0.8055\n",
            "Epoch 31/100\n",
            " - 9s - loss: 0.3133 - acc: 0.8694 - val_loss: 0.4081 - val_acc: 0.8097\n",
            "Epoch 32/100\n",
            " - 9s - loss: 0.3116 - acc: 0.8698 - val_loss: 0.4079 - val_acc: 0.8131\n",
            "Epoch 33/100\n",
            " - 9s - loss: 0.3122 - acc: 0.8695 - val_loss: 0.4064 - val_acc: 0.8131\n",
            "Epoch 34/100\n",
            " - 9s - loss: 0.3072 - acc: 0.8715 - val_loss: 0.4198 - val_acc: 0.8084\n",
            "Epoch 35/100\n",
            " - 9s - loss: 0.3066 - acc: 0.8735 - val_loss: 0.4048 - val_acc: 0.8173\n",
            "Epoch 36/100\n",
            " - 9s - loss: 0.3039 - acc: 0.8721 - val_loss: 0.4271 - val_acc: 0.8084\n",
            "Epoch 37/100\n",
            " - 9s - loss: 0.3010 - acc: 0.8770 - val_loss: 0.4487 - val_acc: 0.8042\n",
            "Epoch 38/100\n",
            " - 9s - loss: 0.3018 - acc: 0.8735 - val_loss: 0.4060 - val_acc: 0.8156\n",
            "Epoch 39/100\n",
            " - 9s - loss: 0.3007 - acc: 0.8756 - val_loss: 0.4063 - val_acc: 0.8177\n",
            "Epoch 40/100\n",
            " - 9s - loss: 0.2992 - acc: 0.8756 - val_loss: 0.4105 - val_acc: 0.8109\n",
            "Epoch 41/100\n",
            " - 9s - loss: 0.2940 - acc: 0.8779 - val_loss: 0.4045 - val_acc: 0.8185\n",
            "Epoch 42/100\n",
            " - 9s - loss: 0.2926 - acc: 0.8811 - val_loss: 0.4187 - val_acc: 0.8088\n",
            "Epoch 43/100\n",
            " - 9s - loss: 0.2890 - acc: 0.8814 - val_loss: 0.4042 - val_acc: 0.8181\n",
            "Epoch 44/100\n",
            " - 9s - loss: 0.2859 - acc: 0.8839 - val_loss: 0.4060 - val_acc: 0.8177\n",
            "Epoch 45/100\n",
            " - 9s - loss: 0.2837 - acc: 0.8834 - val_loss: 0.4044 - val_acc: 0.8181\n",
            "Epoch 46/100\n",
            " - 9s - loss: 0.2849 - acc: 0.8857 - val_loss: 0.4054 - val_acc: 0.8177\n",
            "Epoch 47/100\n",
            " - 9s - loss: 0.2822 - acc: 0.8846 - val_loss: 0.4048 - val_acc: 0.8185\n",
            "Epoch 48/100\n",
            " - 9s - loss: 0.2808 - acc: 0.8862 - val_loss: 0.4038 - val_acc: 0.8194\n",
            "Epoch 49/100\n",
            " - 9s - loss: 0.2768 - acc: 0.8893 - val_loss: 0.4222 - val_acc: 0.8042\n",
            "Epoch 50/100\n",
            " - 8s - loss: 0.2778 - acc: 0.8863 - val_loss: 0.4140 - val_acc: 0.8143\n",
            "Epoch 51/100\n",
            " - 9s - loss: 0.2714 - acc: 0.8911 - val_loss: 0.4042 - val_acc: 0.8215\n",
            "Epoch 52/100\n",
            " - 9s - loss: 0.2720 - acc: 0.8910 - val_loss: 0.4285 - val_acc: 0.8093\n",
            "Epoch 53/100\n",
            " - 9s - loss: 0.2692 - acc: 0.8893 - val_loss: 0.4157 - val_acc: 0.8126\n",
            "Epoch 54/100\n",
            " - 9s - loss: 0.2725 - acc: 0.8906 - val_loss: 0.4057 - val_acc: 0.8181\n",
            "Epoch 55/100\n",
            " - 9s - loss: 0.2658 - acc: 0.8914 - val_loss: 0.4037 - val_acc: 0.8261\n",
            "Epoch 56/100\n",
            " - 9s - loss: 0.2651 - acc: 0.8947 - val_loss: 0.4130 - val_acc: 0.8152\n",
            "Epoch 57/100\n",
            " - 9s - loss: 0.2642 - acc: 0.8949 - val_loss: 0.4043 - val_acc: 0.8236\n",
            "Epoch 58/100\n",
            " - 9s - loss: 0.2584 - acc: 0.8978 - val_loss: 0.4052 - val_acc: 0.8211\n",
            "Epoch 59/100\n",
            " - 9s - loss: 0.2585 - acc: 0.8971 - val_loss: 0.4160 - val_acc: 0.8109\n",
            "Epoch 60/100\n",
            " - 9s - loss: 0.2563 - acc: 0.8982 - val_loss: 0.4099 - val_acc: 0.8211\n",
            "Epoch 61/100\n",
            " - 9s - loss: 0.2568 - acc: 0.8980 - val_loss: 0.4042 - val_acc: 0.8240\n",
            "Epoch 62/100\n",
            " - 9s - loss: 0.2511 - acc: 0.9030 - val_loss: 0.4094 - val_acc: 0.8189\n",
            "Epoch 63/100\n",
            " - 9s - loss: 0.2511 - acc: 0.8994 - val_loss: 0.4078 - val_acc: 0.8261\n",
            "Epoch 64/100\n",
            " - 9s - loss: 0.2489 - acc: 0.9010 - val_loss: 0.4254 - val_acc: 0.8080\n",
            "Epoch 65/100\n",
            " - 9s - loss: 0.2472 - acc: 0.9039 - val_loss: 0.4082 - val_acc: 0.8248\n",
            "Epoch 66/100\n",
            " - 9s - loss: 0.2430 - acc: 0.9053 - val_loss: 0.4198 - val_acc: 0.8122\n",
            "Epoch 67/100\n",
            " - 9s - loss: 0.2449 - acc: 0.9039 - val_loss: 0.4075 - val_acc: 0.8198\n",
            "Epoch 68/100\n",
            " - 9s - loss: 0.2416 - acc: 0.9044 - val_loss: 0.4232 - val_acc: 0.8097\n",
            "Epoch 69/100\n",
            " - 9s - loss: 0.2415 - acc: 0.9068 - val_loss: 0.4080 - val_acc: 0.8232\n",
            "Epoch 70/100\n",
            " - 9s - loss: 0.2408 - acc: 0.9052 - val_loss: 0.4446 - val_acc: 0.8013\n",
            "Epoch 71/100\n",
            " - 9s - loss: 0.2364 - acc: 0.9069 - val_loss: 0.4143 - val_acc: 0.8160\n",
            "Epoch 72/100\n",
            " - 9s - loss: 0.2325 - acc: 0.9099 - val_loss: 0.4075 - val_acc: 0.8248\n",
            "Epoch 73/100\n",
            " - 9s - loss: 0.2318 - acc: 0.9093 - val_loss: 0.4111 - val_acc: 0.8240\n",
            "Epoch 74/100\n",
            " - 9s - loss: 0.2296 - acc: 0.9119 - val_loss: 0.4538 - val_acc: 0.8072\n",
            "Epoch 75/100\n",
            " - 9s - loss: 0.2304 - acc: 0.9109 - val_loss: 0.4074 - val_acc: 0.8223\n",
            "Epoch 76/100\n",
            " - 9s - loss: 0.2283 - acc: 0.9104 - val_loss: 0.4132 - val_acc: 0.8232\n",
            "Epoch 77/100\n",
            " - 9s - loss: 0.2236 - acc: 0.9156 - val_loss: 0.4102 - val_acc: 0.8227\n",
            "Epoch 78/100\n",
            " - 9s - loss: 0.2208 - acc: 0.9152 - val_loss: 0.4097 - val_acc: 0.8215\n",
            "Epoch 79/100\n",
            " - 9s - loss: 0.2186 - acc: 0.9177 - val_loss: 0.4105 - val_acc: 0.8253\n",
            "Epoch 80/100\n",
            " - 9s - loss: 0.2143 - acc: 0.9201 - val_loss: 0.4212 - val_acc: 0.8211\n",
            "Epoch 81/100\n",
            " - 9s - loss: 0.2235 - acc: 0.9125 - val_loss: 0.4216 - val_acc: 0.8232\n",
            "Epoch 82/100\n",
            " - 9s - loss: 0.2153 - acc: 0.9201 - val_loss: 0.4150 - val_acc: 0.8274\n",
            "Epoch 83/100\n",
            " - 9s - loss: 0.2135 - acc: 0.9187 - val_loss: 0.4243 - val_acc: 0.8177\n",
            "Epoch 84/100\n",
            " - 9s - loss: 0.2126 - acc: 0.9178 - val_loss: 0.4125 - val_acc: 0.8227\n",
            "Epoch 85/100\n",
            " - 9s - loss: 0.2081 - acc: 0.9207 - val_loss: 0.4175 - val_acc: 0.8232\n",
            "Epoch 86/100\n",
            " - 9s - loss: 0.2055 - acc: 0.9247 - val_loss: 0.4141 - val_acc: 0.8236\n",
            "Epoch 87/100\n",
            " - 9s - loss: 0.2071 - acc: 0.9216 - val_loss: 0.4232 - val_acc: 0.8232\n",
            "Epoch 88/100\n",
            " - 9s - loss: 0.2038 - acc: 0.9245 - val_loss: 0.4467 - val_acc: 0.8168\n",
            "Epoch 89/100\n",
            " - 9s - loss: 0.1996 - acc: 0.9267 - val_loss: 0.4161 - val_acc: 0.8223\n",
            "Epoch 90/100\n",
            " - 9s - loss: 0.1984 - acc: 0.9272 - val_loss: 0.4166 - val_acc: 0.8211\n",
            "Epoch 91/100\n",
            " - 9s - loss: 0.1981 - acc: 0.9263 - val_loss: 0.4213 - val_acc: 0.8265\n",
            "Epoch 92/100\n",
            " - 9s - loss: 0.1979 - acc: 0.9258 - val_loss: 0.4268 - val_acc: 0.8244\n",
            "Epoch 93/100\n",
            " - 9s - loss: 0.1948 - acc: 0.9279 - val_loss: 0.4209 - val_acc: 0.8236\n",
            "Epoch 94/100\n",
            " - 9s - loss: 0.1913 - acc: 0.9309 - val_loss: 0.4230 - val_acc: 0.8219\n",
            "Epoch 95/100\n",
            " - 9s - loss: 0.1918 - acc: 0.9294 - val_loss: 0.4439 - val_acc: 0.8206\n",
            "Epoch 96/100\n",
            " - 9s - loss: 0.1884 - acc: 0.9326 - val_loss: 0.4187 - val_acc: 0.8219\n",
            "Epoch 97/100\n",
            " - 9s - loss: 0.1860 - acc: 0.9321 - val_loss: 0.4200 - val_acc: 0.8185\n",
            "Epoch 98/100\n",
            " - 9s - loss: 0.1923 - acc: 0.9273 - val_loss: 0.4539 - val_acc: 0.8181\n",
            "Epoch 99/100\n",
            " - 9s - loss: 0.1804 - acc: 0.9376 - val_loss: 0.4266 - val_acc: 0.8219\n",
            "Epoch 100/100\n",
            " - 9s - loss: 0.1856 - acc: 0.9322 - val_loss: 0.4373 - val_acc: 0.8257\n"
          ],
          "name": "stdout"
        },
        {
          "output_type": "execute_result",
          "data": {
            "text/plain": [
              "<keras.callbacks.History at 0x7f4158e74cf8>"
            ]
          },
          "metadata": {
            "tags": []
          },
          "execution_count": 68
        }
      ]
    },
    {
      "metadata": {
        "id": "ZSpb3k3dPte_",
        "colab_type": "code",
        "colab": {
          "base_uri": "https://localhost:8080/",
          "height": 55
        },
        "outputId": "c6d0b778-a3bd-4611-9e6f-2b200ab8af74"
      },
      "cell_type": "code",
      "source": [
        "score=model.evaluate(x=X_test, y=y_test)\n",
        "print(score)"
      ],
      "execution_count": 69,
      "outputs": [
        {
          "output_type": "stream",
          "text": [
            "1250/1250 [==============================] - 0s 291us/step\n",
            "[0.4247236147105694, 0.8184]\n"
          ],
          "name": "stdout"
        }
      ]
    },
    {
      "metadata": {
        "id": "L-0hy_N2Oi0R",
        "colab_type": "code",
        "colab": {
          "base_uri": "https://localhost:8080/",
          "height": 596
        },
        "outputId": "32a76f2b-74f1-4509-b3dd-7460a3e0544c"
      },
      "cell_type": "code",
      "source": [
        "model.summary()"
      ],
      "execution_count": 61,
      "outputs": [
        {
          "output_type": "stream",
          "text": [
            "_________________________________________________________________\n",
            "Layer (type)                 Output Shape              Param #   \n",
            "=================================================================\n",
            "conv2d_7 (Conv2D)            (None, 62, 62, 32)        896       \n",
            "_________________________________________________________________\n",
            "max_pooling2d_5 (MaxPooling2 (None, 31, 31, 32)        0         \n",
            "_________________________________________________________________\n",
            "conv2d_8 (Conv2D)            (None, 29, 29, 64)        18496     \n",
            "_________________________________________________________________\n",
            "max_pooling2d_6 (MaxPooling2 (None, 14, 14, 64)        0         \n",
            "_________________________________________________________________\n",
            "conv2d_9 (Conv2D)            (None, 12, 12, 128)       73856     \n",
            "_________________________________________________________________\n",
            "max_pooling2d_7 (MaxPooling2 (None, 6, 6, 128)         0         \n",
            "_________________________________________________________________\n",
            "conv2d_10 (Conv2D)           (None, 4, 4, 512)         590336    \n",
            "_________________________________________________________________\n",
            "max_pooling2d_8 (MaxPooling2 (None, 2, 2, 512)         0         \n",
            "_________________________________________________________________\n",
            "flatten_2 (Flatten)          (None, 2048)              0         \n",
            "_________________________________________________________________\n",
            "dense_4 (Dense)              (None, 128)               262272    \n",
            "_________________________________________________________________\n",
            "dense_5 (Dense)              (None, 128)               16512     \n",
            "_________________________________________________________________\n",
            "dense_6 (Dense)              (None, 2)                 258       \n",
            "=================================================================\n",
            "Total params: 962,626\n",
            "Trainable params: 962,626\n",
            "Non-trainable params: 0\n",
            "_________________________________________________________________\n"
          ],
          "name": "stdout"
        }
      ]
    },
    {
      "metadata": {
        "id": "6BOvqSO5Lzhn",
        "colab_type": "code",
        "colab": {
          "base_uri": "https://localhost:8080/",
          "height": 1966
        },
        "outputId": "c52f9b25-02f7-46f5-efd5-468cdbe46f02"
      },
      "cell_type": "code",
      "source": [
        "model2 = Sequential()\n",
        "model2.add(layers.Conv2D(filters=32, kernel_size=3,activation=layers.activations.relu,data_format='channels_last',input_shape=[64,64,3]))\n",
        "model2.add(layers.MaxPool2D(pool_size=2,strides=2))\n",
        "model2.add(layers.Conv2D(filters=64, kernel_size=3,activation=layers.activations.relu))\n",
        "model2.add(layers.MaxPool2D(pool_size=2,strides=2))\n",
        "model2.add(layers.Flatten())\n",
        "model2.add(layers.Dense(128,activation=layers.activations.relu))\n",
        "model2.add(layers.Dense(128,activation=layers.activations.relu))\n",
        "model2.add(layers.Dense(2, activation=layers.activations.softmax))\n",
        "model2.compile(optimizer = keras.optimizers.Adam(lr=1e-5),loss = keras.losses.sparse_categorical_crossentropy,metrics=['accuracy'])\n",
        "model2.fit(x=X_train, y=y_train, batch_size=128, epochs=100,verbose=2,validation_split = 0.1)"
      ],
      "execution_count": 67,
      "outputs": [
        {
          "output_type": "stream",
          "text": [
            "Train on 21375 samples, validate on 2375 samples\n",
            "Epoch 1/100\n",
            " - 7s - loss: 0.6812 - acc: 0.5777 - val_loss: 0.6672 - val_acc: 0.6219\n",
            "Epoch 2/100\n",
            " - 7s - loss: 0.6545 - acc: 0.6388 - val_loss: 0.6439 - val_acc: 0.6387\n",
            "Epoch 3/100\n",
            " - 7s - loss: 0.6288 - acc: 0.6681 - val_loss: 0.6165 - val_acc: 0.6716\n",
            "Epoch 4/100\n",
            " - 7s - loss: 0.6080 - acc: 0.6811 - val_loss: 0.6007 - val_acc: 0.6762\n",
            "Epoch 5/100\n",
            " - 7s - loss: 0.5927 - acc: 0.6923 - val_loss: 0.5863 - val_acc: 0.6956\n",
            "Epoch 6/100\n",
            " - 7s - loss: 0.5784 - acc: 0.7055 - val_loss: 0.5765 - val_acc: 0.6956\n",
            "Epoch 7/100\n",
            " - 7s - loss: 0.5665 - acc: 0.7146 - val_loss: 0.5660 - val_acc: 0.7069\n",
            "Epoch 8/100\n",
            " - 7s - loss: 0.5564 - acc: 0.7222 - val_loss: 0.5610 - val_acc: 0.7040\n",
            "Epoch 9/100\n",
            " - 7s - loss: 0.5465 - acc: 0.7288 - val_loss: 0.5522 - val_acc: 0.7221\n",
            "Epoch 10/100\n",
            " - 7s - loss: 0.5380 - acc: 0.7360 - val_loss: 0.5469 - val_acc: 0.7158\n",
            "Epoch 11/100\n",
            " - 7s - loss: 0.5310 - acc: 0.7407 - val_loss: 0.5406 - val_acc: 0.7267\n",
            "Epoch 12/100\n",
            " - 7s - loss: 0.5224 - acc: 0.7470 - val_loss: 0.5348 - val_acc: 0.7297\n",
            "Epoch 13/100\n",
            " - 7s - loss: 0.5156 - acc: 0.7533 - val_loss: 0.5278 - val_acc: 0.7381\n",
            "Epoch 14/100\n",
            " - 7s - loss: 0.5098 - acc: 0.7559 - val_loss: 0.5294 - val_acc: 0.7309\n",
            "Epoch 15/100\n",
            " - 7s - loss: 0.5039 - acc: 0.7580 - val_loss: 0.5191 - val_acc: 0.7402\n",
            "Epoch 16/100\n",
            " - 7s - loss: 0.4994 - acc: 0.7636 - val_loss: 0.5156 - val_acc: 0.7415\n",
            "Epoch 17/100\n",
            " - 7s - loss: 0.4929 - acc: 0.7665 - val_loss: 0.5139 - val_acc: 0.7423\n",
            "Epoch 18/100\n",
            " - 7s - loss: 0.4869 - acc: 0.7736 - val_loss: 0.5128 - val_acc: 0.7423\n",
            "Epoch 19/100\n",
            " - 7s - loss: 0.4824 - acc: 0.7757 - val_loss: 0.5067 - val_acc: 0.7461\n",
            "Epoch 20/100\n",
            " - 7s - loss: 0.4780 - acc: 0.7794 - val_loss: 0.5084 - val_acc: 0.7465\n",
            "Epoch 21/100\n",
            " - 7s - loss: 0.4747 - acc: 0.7797 - val_loss: 0.5034 - val_acc: 0.7537\n",
            "Epoch 22/100\n"
          ],
          "name": "stdout"
        },
        {
          "output_type": "error",
          "ename": "KeyboardInterrupt",
          "evalue": "ignored",
          "traceback": [
            "\u001b[0;31m---------------------------------------------------------------------------\u001b[0m",
            "\u001b[0;31mKeyboardInterrupt\u001b[0m                         Traceback (most recent call last)",
            "\u001b[0;32m<ipython-input-67-536b31d1caab>\u001b[0m in \u001b[0;36m<module>\u001b[0;34m()\u001b[0m\n\u001b[1;32m      9\u001b[0m \u001b[0mmodel2\u001b[0m\u001b[0;34m.\u001b[0m\u001b[0madd\u001b[0m\u001b[0;34m(\u001b[0m\u001b[0mlayers\u001b[0m\u001b[0;34m.\u001b[0m\u001b[0mDense\u001b[0m\u001b[0;34m(\u001b[0m\u001b[0;36m2\u001b[0m\u001b[0;34m,\u001b[0m \u001b[0mactivation\u001b[0m\u001b[0;34m=\u001b[0m\u001b[0mlayers\u001b[0m\u001b[0;34m.\u001b[0m\u001b[0mactivations\u001b[0m\u001b[0;34m.\u001b[0m\u001b[0msoftmax\u001b[0m\u001b[0;34m)\u001b[0m\u001b[0;34m)\u001b[0m\u001b[0;34m\u001b[0m\u001b[0m\n\u001b[1;32m     10\u001b[0m \u001b[0mmodel2\u001b[0m\u001b[0;34m.\u001b[0m\u001b[0mcompile\u001b[0m\u001b[0;34m(\u001b[0m\u001b[0moptimizer\u001b[0m \u001b[0;34m=\u001b[0m \u001b[0mkeras\u001b[0m\u001b[0;34m.\u001b[0m\u001b[0moptimizers\u001b[0m\u001b[0;34m.\u001b[0m\u001b[0mAdam\u001b[0m\u001b[0;34m(\u001b[0m\u001b[0mlr\u001b[0m\u001b[0;34m=\u001b[0m\u001b[0;36m1e-5\u001b[0m\u001b[0;34m)\u001b[0m\u001b[0;34m,\u001b[0m\u001b[0mloss\u001b[0m \u001b[0;34m=\u001b[0m \u001b[0mkeras\u001b[0m\u001b[0;34m.\u001b[0m\u001b[0mlosses\u001b[0m\u001b[0;34m.\u001b[0m\u001b[0msparse_categorical_crossentropy\u001b[0m\u001b[0;34m,\u001b[0m\u001b[0mmetrics\u001b[0m\u001b[0;34m=\u001b[0m\u001b[0;34m[\u001b[0m\u001b[0;34m'accuracy'\u001b[0m\u001b[0;34m]\u001b[0m\u001b[0;34m)\u001b[0m\u001b[0;34m\u001b[0m\u001b[0m\n\u001b[0;32m---> 11\u001b[0;31m \u001b[0mmodel2\u001b[0m\u001b[0;34m.\u001b[0m\u001b[0mfit\u001b[0m\u001b[0;34m(\u001b[0m\u001b[0mx\u001b[0m\u001b[0;34m=\u001b[0m\u001b[0mX_train\u001b[0m\u001b[0;34m,\u001b[0m \u001b[0my\u001b[0m\u001b[0;34m=\u001b[0m\u001b[0my_train\u001b[0m\u001b[0;34m,\u001b[0m \u001b[0mbatch_size\u001b[0m\u001b[0;34m=\u001b[0m\u001b[0;36m128\u001b[0m\u001b[0;34m,\u001b[0m \u001b[0mepochs\u001b[0m\u001b[0;34m=\u001b[0m\u001b[0;36m100\u001b[0m\u001b[0;34m,\u001b[0m\u001b[0mverbose\u001b[0m\u001b[0;34m=\u001b[0m\u001b[0;36m2\u001b[0m\u001b[0;34m,\u001b[0m\u001b[0mvalidation_split\u001b[0m \u001b[0;34m=\u001b[0m \u001b[0;36m0.1\u001b[0m\u001b[0;34m)\u001b[0m\u001b[0;34m\u001b[0m\u001b[0m\n\u001b[0m",
            "\u001b[0;32m/usr/local/lib/python3.6/dist-packages/keras/models.py\u001b[0m in \u001b[0;36mfit\u001b[0;34m(self, x, y, batch_size, epochs, verbose, callbacks, validation_split, validation_data, shuffle, class_weight, sample_weight, initial_epoch, steps_per_epoch, validation_steps, **kwargs)\u001b[0m\n\u001b[1;32m   1000\u001b[0m                               \u001b[0minitial_epoch\u001b[0m\u001b[0;34m=\u001b[0m\u001b[0minitial_epoch\u001b[0m\u001b[0;34m,\u001b[0m\u001b[0;34m\u001b[0m\u001b[0m\n\u001b[1;32m   1001\u001b[0m                               \u001b[0msteps_per_epoch\u001b[0m\u001b[0;34m=\u001b[0m\u001b[0msteps_per_epoch\u001b[0m\u001b[0;34m,\u001b[0m\u001b[0;34m\u001b[0m\u001b[0m\n\u001b[0;32m-> 1002\u001b[0;31m                               validation_steps=validation_steps)\n\u001b[0m\u001b[1;32m   1003\u001b[0m \u001b[0;34m\u001b[0m\u001b[0m\n\u001b[1;32m   1004\u001b[0m     def evaluate(self, x=None, y=None,\n",
            "\u001b[0;32m/usr/local/lib/python3.6/dist-packages/keras/engine/training.py\u001b[0m in \u001b[0;36mfit\u001b[0;34m(self, x, y, batch_size, epochs, verbose, callbacks, validation_split, validation_data, shuffle, class_weight, sample_weight, initial_epoch, steps_per_epoch, validation_steps, **kwargs)\u001b[0m\n\u001b[1;32m   1703\u001b[0m                               \u001b[0minitial_epoch\u001b[0m\u001b[0;34m=\u001b[0m\u001b[0minitial_epoch\u001b[0m\u001b[0;34m,\u001b[0m\u001b[0;34m\u001b[0m\u001b[0m\n\u001b[1;32m   1704\u001b[0m                               \u001b[0msteps_per_epoch\u001b[0m\u001b[0;34m=\u001b[0m\u001b[0msteps_per_epoch\u001b[0m\u001b[0;34m,\u001b[0m\u001b[0;34m\u001b[0m\u001b[0m\n\u001b[0;32m-> 1705\u001b[0;31m                               validation_steps=validation_steps)\n\u001b[0m\u001b[1;32m   1706\u001b[0m \u001b[0;34m\u001b[0m\u001b[0m\n\u001b[1;32m   1707\u001b[0m     def evaluate(self, x=None, y=None,\n",
            "\u001b[0;32m/usr/local/lib/python3.6/dist-packages/keras/engine/training.py\u001b[0m in \u001b[0;36m_fit_loop\u001b[0;34m(self, f, ins, out_labels, batch_size, epochs, verbose, callbacks, val_f, val_ins, shuffle, callback_metrics, initial_epoch, steps_per_epoch, validation_steps)\u001b[0m\n\u001b[1;32m   1240\u001b[0m                         \u001b[0mbatch_logs\u001b[0m\u001b[0;34m[\u001b[0m\u001b[0ml\u001b[0m\u001b[0;34m]\u001b[0m \u001b[0;34m=\u001b[0m \u001b[0mo\u001b[0m\u001b[0;34m\u001b[0m\u001b[0m\n\u001b[1;32m   1241\u001b[0m \u001b[0;34m\u001b[0m\u001b[0m\n\u001b[0;32m-> 1242\u001b[0;31m                     \u001b[0mcallbacks\u001b[0m\u001b[0;34m.\u001b[0m\u001b[0mon_batch_end\u001b[0m\u001b[0;34m(\u001b[0m\u001b[0mbatch_index\u001b[0m\u001b[0;34m,\u001b[0m \u001b[0mbatch_logs\u001b[0m\u001b[0;34m)\u001b[0m\u001b[0;34m\u001b[0m\u001b[0m\n\u001b[0m\u001b[1;32m   1243\u001b[0m                     \u001b[0;32mif\u001b[0m \u001b[0mcallback_model\u001b[0m\u001b[0;34m.\u001b[0m\u001b[0mstop_training\u001b[0m\u001b[0;34m:\u001b[0m\u001b[0;34m\u001b[0m\u001b[0m\n\u001b[1;32m   1244\u001b[0m                         \u001b[0;32mbreak\u001b[0m\u001b[0;34m\u001b[0m\u001b[0m\n",
            "\u001b[0;32m/usr/local/lib/python3.6/dist-packages/keras/callbacks.py\u001b[0m in \u001b[0;36mon_batch_end\u001b[0;34m(self, batch, logs)\u001b[0m\n\u001b[1;32m    113\u001b[0m             \u001b[0mcallback\u001b[0m\u001b[0;34m.\u001b[0m\u001b[0mon_batch_end\u001b[0m\u001b[0;34m(\u001b[0m\u001b[0mbatch\u001b[0m\u001b[0;34m,\u001b[0m \u001b[0mlogs\u001b[0m\u001b[0;34m)\u001b[0m\u001b[0;34m\u001b[0m\u001b[0m\n\u001b[1;32m    114\u001b[0m         \u001b[0mself\u001b[0m\u001b[0;34m.\u001b[0m\u001b[0m_delta_ts_batch_end\u001b[0m\u001b[0;34m.\u001b[0m\u001b[0mappend\u001b[0m\u001b[0;34m(\u001b[0m\u001b[0mtime\u001b[0m\u001b[0;34m.\u001b[0m\u001b[0mtime\u001b[0m\u001b[0;34m(\u001b[0m\u001b[0;34m)\u001b[0m \u001b[0;34m-\u001b[0m \u001b[0mt_before_callbacks\u001b[0m\u001b[0;34m)\u001b[0m\u001b[0;34m\u001b[0m\u001b[0m\n\u001b[0;32m--> 115\u001b[0;31m         \u001b[0mdelta_t_median\u001b[0m \u001b[0;34m=\u001b[0m \u001b[0mnp\u001b[0m\u001b[0;34m.\u001b[0m\u001b[0mmedian\u001b[0m\u001b[0;34m(\u001b[0m\u001b[0mself\u001b[0m\u001b[0;34m.\u001b[0m\u001b[0m_delta_ts_batch_end\u001b[0m\u001b[0;34m)\u001b[0m\u001b[0;34m\u001b[0m\u001b[0m\n\u001b[0m\u001b[1;32m    116\u001b[0m         if (self._delta_t_batch > 0. and\n\u001b[1;32m    117\u001b[0m            (delta_t_median > 0.95 * self._delta_t_batch and delta_t_median > 0.1)):\n",
            "\u001b[0;32m/usr/local/lib/python3.6/dist-packages/numpy/lib/function_base.py\u001b[0m in \u001b[0;36mmedian\u001b[0;34m(a, axis, out, overwrite_input, keepdims)\u001b[0m\n\u001b[1;32m   4117\u001b[0m     \"\"\"\n\u001b[1;32m   4118\u001b[0m     r, k = _ureduce(a, func=_median, axis=axis, out=out,\n\u001b[0;32m-> 4119\u001b[0;31m                     overwrite_input=overwrite_input)\n\u001b[0m\u001b[1;32m   4120\u001b[0m     \u001b[0;32mif\u001b[0m \u001b[0mkeepdims\u001b[0m\u001b[0;34m:\u001b[0m\u001b[0;34m\u001b[0m\u001b[0m\n\u001b[1;32m   4121\u001b[0m         \u001b[0;32mreturn\u001b[0m \u001b[0mr\u001b[0m\u001b[0;34m.\u001b[0m\u001b[0mreshape\u001b[0m\u001b[0;34m(\u001b[0m\u001b[0mk\u001b[0m\u001b[0;34m)\u001b[0m\u001b[0;34m\u001b[0m\u001b[0m\n",
            "\u001b[0;32m/usr/local/lib/python3.6/dist-packages/numpy/lib/function_base.py\u001b[0m in \u001b[0;36m_ureduce\u001b[0;34m(a, func, **kwargs)\u001b[0m\n\u001b[1;32m   4031\u001b[0m         \u001b[0mkeepdim\u001b[0m \u001b[0;34m=\u001b[0m \u001b[0;34m(\u001b[0m\u001b[0;36m1\u001b[0m\u001b[0;34m,\u001b[0m\u001b[0;34m)\u001b[0m \u001b[0;34m*\u001b[0m \u001b[0ma\u001b[0m\u001b[0;34m.\u001b[0m\u001b[0mndim\u001b[0m\u001b[0;34m\u001b[0m\u001b[0m\n\u001b[1;32m   4032\u001b[0m \u001b[0;34m\u001b[0m\u001b[0m\n\u001b[0;32m-> 4033\u001b[0;31m     \u001b[0mr\u001b[0m \u001b[0;34m=\u001b[0m \u001b[0mfunc\u001b[0m\u001b[0;34m(\u001b[0m\u001b[0ma\u001b[0m\u001b[0;34m,\u001b[0m \u001b[0;34m**\u001b[0m\u001b[0mkwargs\u001b[0m\u001b[0;34m)\u001b[0m\u001b[0;34m\u001b[0m\u001b[0m\n\u001b[0m\u001b[1;32m   4034\u001b[0m     \u001b[0;32mreturn\u001b[0m \u001b[0mr\u001b[0m\u001b[0;34m,\u001b[0m \u001b[0mkeepdim\u001b[0m\u001b[0;34m\u001b[0m\u001b[0m\n\u001b[1;32m   4035\u001b[0m \u001b[0;34m\u001b[0m\u001b[0m\n",
            "\u001b[0;32m/usr/local/lib/python3.6/dist-packages/numpy/lib/function_base.py\u001b[0m in \u001b[0;36m_median\u001b[0;34m(a, axis, out, overwrite_input)\u001b[0m\n\u001b[1;32m   4164\u001b[0m         \u001b[0mindexer\u001b[0m\u001b[0;34m[\u001b[0m\u001b[0maxis\u001b[0m\u001b[0;34m]\u001b[0m \u001b[0;34m=\u001b[0m \u001b[0mslice\u001b[0m\u001b[0;34m(\u001b[0m\u001b[0mindex\u001b[0m\u001b[0;34m,\u001b[0m \u001b[0mindex\u001b[0m\u001b[0;34m+\u001b[0m\u001b[0;36m1\u001b[0m\u001b[0;34m)\u001b[0m\u001b[0;34m\u001b[0m\u001b[0m\n\u001b[1;32m   4165\u001b[0m     \u001b[0;32melse\u001b[0m\u001b[0;34m:\u001b[0m\u001b[0;34m\u001b[0m\u001b[0m\n\u001b[0;32m-> 4166\u001b[0;31m         \u001b[0mindexer\u001b[0m\u001b[0;34m[\u001b[0m\u001b[0maxis\u001b[0m\u001b[0;34m]\u001b[0m \u001b[0;34m=\u001b[0m \u001b[0mslice\u001b[0m\u001b[0;34m(\u001b[0m\u001b[0mindex\u001b[0m\u001b[0;34m-\u001b[0m\u001b[0;36m1\u001b[0m\u001b[0;34m,\u001b[0m \u001b[0mindex\u001b[0m\u001b[0;34m+\u001b[0m\u001b[0;36m1\u001b[0m\u001b[0;34m)\u001b[0m\u001b[0;34m\u001b[0m\u001b[0m\n\u001b[0m\u001b[1;32m   4167\u001b[0m \u001b[0;34m\u001b[0m\u001b[0m\n\u001b[1;32m   4168\u001b[0m     \u001b[0;31m# Check if the array contains any nan's\u001b[0m\u001b[0;34m\u001b[0m\u001b[0;34m\u001b[0m\u001b[0m\n",
            "\u001b[0;31mKeyboardInterrupt\u001b[0m: "
          ]
        }
      ]
    },
    {
      "metadata": {
        "id": "ojfR89u5QIif",
        "colab_type": "code",
        "colab": {
          "base_uri": "https://localhost:8080/",
          "height": 55
        },
        "outputId": "2bf2e0b1-f283-48e9-df33-dfeeb77b6ee0"
      },
      "cell_type": "code",
      "source": [
        "score2=model2.evaluate(x=X_test, y=y_test)\n",
        "print(score2)"
      ],
      "execution_count": 64,
      "outputs": [
        {
          "output_type": "stream",
          "text": [
            "1250/1250 [==============================] - 0s 292us/step\n",
            "[0.4587086442947388, 0.7944]\n"
          ],
          "name": "stdout"
        }
      ]
    },
    {
      "metadata": {
        "id": "c1AzHfxAObyv",
        "colab_type": "code",
        "colab": {
          "base_uri": "https://localhost:8080/",
          "height": 447
        },
        "outputId": "24820913-45c3-45aa-80b0-e061afbd10ef"
      },
      "cell_type": "code",
      "source": [
        "model2.summary()"
      ],
      "execution_count": 63,
      "outputs": [
        {
          "output_type": "stream",
          "text": [
            "_________________________________________________________________\n",
            "Layer (type)                 Output Shape              Param #   \n",
            "=================================================================\n",
            "conv2d_15 (Conv2D)           (None, 62, 62, 32)        896       \n",
            "_________________________________________________________________\n",
            "max_pooling2d_13 (MaxPooling (None, 31, 31, 32)        0         \n",
            "_________________________________________________________________\n",
            "conv2d_16 (Conv2D)           (None, 29, 29, 64)        18496     \n",
            "_________________________________________________________________\n",
            "max_pooling2d_14 (MaxPooling (None, 14, 14, 64)        0         \n",
            "_________________________________________________________________\n",
            "flatten_5 (Flatten)          (None, 12544)             0         \n",
            "_________________________________________________________________\n",
            "dense_13 (Dense)             (None, 128)               1605760   \n",
            "_________________________________________________________________\n",
            "dense_14 (Dense)             (None, 128)               16512     \n",
            "_________________________________________________________________\n",
            "dense_15 (Dense)             (None, 2)                 258       \n",
            "=================================================================\n",
            "Total params: 1,641,922\n",
            "Trainable params: 1,641,922\n",
            "Non-trainable params: 0\n",
            "_________________________________________________________________\n"
          ],
          "name": "stdout"
        }
      ]
    },
    {
      "metadata": {
        "id": "TBRLQXQHQGa0",
        "colab_type": "code",
        "colab": {}
      },
      "cell_type": "code",
      "source": [
        ""
      ],
      "execution_count": 0,
      "outputs": []
    }
  ]
}