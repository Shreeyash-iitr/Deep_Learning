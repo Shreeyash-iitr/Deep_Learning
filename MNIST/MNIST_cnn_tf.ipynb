{
  "nbformat": 4,
  "nbformat_minor": 0,
  "metadata": {
    "colab": {
      "name": "Untitled0.ipynb",
      "version": "0.3.2",
      "provenance": []
    },
    "kernelspec": {
      "name": "python3",
      "display_name": "Python 3"
    },
    "accelerator": "GPU"
  },
  "cells": [
    {
      "metadata": {
        "id": "6tdHQOOhrWSB",
        "colab_type": "code",
        "colab": {
          "base_uri": "https://localhost:8080/",
          "height": 88
        },
        "outputId": "567a86a7-f13b-482b-a252-e2c8731fc844"
      },
      "cell_type": "code",
      "source": [
        "\n",
        "import tensorflow as tf\n",
        "import numpy as np\n",
        "import matplotlib.pyplot as plt\n",
        "import math\n",
        "\n",
        "from tensorflow.examples.tutorials.mnist import input_data\n",
        "mnist = input_data.read_data_sets(\"MNIST_data/\",one_hot=True)\n",
        "\n",
        "# load images in shape (m, 28,28,1), num_channels is taken 1\n",
        "X_train = mnist.train.images.reshape((55000,28,28,1))\n",
        "X_test = mnist.test.images.reshape((10000, 28, 28, 1))\n",
        "X_valid = mnist.validation.images.reshape((5000,28,28,1))\n",
        "\n",
        "\n",
        "# load labels with shape (m, 10)\n",
        "y_train = mnist.train.labels\n",
        "y_test = mnist.test.labels\n",
        "y_valid = mnist.validation.labels\n",
        "\n",
        "\n",
        "\n"
      ],
      "execution_count": 53,
      "outputs": [
        {
          "output_type": "stream",
          "text": [
            "Extracting MNIST_data/train-images-idx3-ubyte.gz\n",
            "Extracting MNIST_data/train-labels-idx1-ubyte.gz\n",
            "Extracting MNIST_data/t10k-images-idx3-ubyte.gz\n",
            "Extracting MNIST_data/t10k-labels-idx1-ubyte.gz\n"
          ],
          "name": "stdout"
        }
      ]
    },
    {
      "metadata": {
        "id": "8c5342dL-g1C",
        "colab_type": "code",
        "colab": {}
      },
      "cell_type": "code",
      "source": [
        "\n",
        "\n",
        "# Architecture: conv_1 = 32 >> conv2 = 64 >> padding = \"SAME\" >> flatten >> 1 dense_layer >> cost\n",
        "\n",
        "def initialize():\n",
        "    \n",
        "    # initialize weights with xavier initializer to make variance \"2/n\"\n",
        "    regularizer = tf.contrib.layers.l2_regularizer(scale=0.1)\n",
        "\n",
        "    W1 = tf.get_variable(name=\"W1\", initializer=tf.contrib.layers.xavier_initializer(),\n",
        "                         shape=[28,28,1,16],regularizer=regularizer)\n",
        "    \n",
        "    W2 = tf.get_variable(name=\"W2\", shape=[28,28,16,32],\n",
        "                         initializer=tf.contrib.layers.xavier_initializer(),regularizer=regularizer)\n",
        "    return W1, W2\n"
      ],
      "execution_count": 0,
      "outputs": []
    },
    {
      "metadata": {
        "id": "9DpMnw-L_5iI",
        "colab_type": "code",
        "colab": {}
      },
      "cell_type": "code",
      "source": [
        "\n",
        "\n",
        "def forward_prop(X, W1, W2):\n",
        "    \n",
        "\n",
        "    # create two convolution layers\n",
        "    # X >> convolve >> Z1 >> activation >> max_pool >> convolve >> Z2 >> activation >> max_pool>> flatten\n",
        "\n",
        "    #  convolution layer 1\n",
        "    Z1 = tf.nn.conv2d(X, filter=W1, padding=\"SAME\", strides=[1, 1, 1, 1])\n",
        "    A1 = tf.nn.relu(Z1)\n",
        "    P1 = tf.nn.max_pool(A1, [1, 2, 2, 1], strides=[1, 1, 1, 1], padding=\"SAME\")\n",
        "\n",
        "    # convolution layer 2\n",
        "    Z2 = tf.nn.conv2d(P1, filter=W2, strides=[1, 1, 1, 1], padding=\"SAME\")\n",
        "    A2 = tf.nn.relu(Z2)\n",
        "    P2 = tf.nn.max_pool(A2, [1, 2, 2, 1], padding='SAME', strides=[1, 1, 1, 1])\n",
        "    \n",
        "    # flatten layer\n",
        "    F = tf.contrib.layers.flatten(P2)\n",
        "    \n",
        "    # fully connected layer\n",
        "    L = tf.contrib.layers.fully_connected(F, num_outputs = 10, activation_fn=None)\n",
        "    #tf.nn.dropout(L,keep_prob=0.5)\n",
        "    \n",
        "    return L\n",
        "\n"
      ],
      "execution_count": 0,
      "outputs": []
    },
    {
      "metadata": {
        "id": "Hsaf1eO5BiiE",
        "colab_type": "code",
        "colab": {}
      },
      "cell_type": "code",
      "source": [
        "\n",
        "def find_cost(L, Y):\n",
        "   \n",
        "    cost = tf.reduce_mean(tf.nn.softmax_cross_entropy_with_logits(labels=Y, logits=L))\n",
        "    return cost\n",
        "\n"
      ],
      "execution_count": 0,
      "outputs": []
    },
    {
      "metadata": {
        "id": "tdecsEWCGSiu",
        "colab_type": "code",
        "colab": {}
      },
      "cell_type": "code",
      "source": [
        "\n",
        "def random_mini_batches(X, Y, mini_batch_size = 64, seed = 0):\n",
        "    \"\"\"\n",
        "    Creates a list of random minibatches from (X, Y)\n",
        "    \n",
        "    Arguments:\n",
        "    X -- input data, of shape (input size, number of examples) (m, Hi, Wi, Ci)\n",
        "    Y -- true \"label\" vector (containing 0 if cat, 1 if non-cat), of shape (1, number of examples) (m, n_y)\n",
        "    mini_batch_size - size of the mini-batches, integer\n",
        "    seed -- this is only for the purpose of grading, so that you're \"random minibatches are the same as ours.\n",
        "    \n",
        "    Returns:\n",
        "    mini_batches -- list of synchronous (mini_batch_X, mini_batch_Y)\n",
        "    \"\"\"\n",
        "    \n",
        "    m = X.shape[0]                  # number of training examples\n",
        "    mini_batches = []\n",
        "    np.random.seed(seed)\n",
        "    \n",
        "    # Step 1: Shuffle (X, Y)\n",
        "    permutation = list(np.random.permutation(m))\n",
        "    shuffled_X = X[permutation,:,:,:]\n",
        "    shuffled_Y = Y[permutation,:]\n",
        "\n",
        "    # Step 2: Partition (shuffled_X, shuffled_Y). Minus the end case.\n",
        "    num_complete_minibatches = math.floor(m/mini_batch_size) # number of mini batches of size mini_batch_size in your partitionning\n",
        "    for k in range(0, num_complete_minibatches):\n",
        "        mini_batch_X = shuffled_X[k * mini_batch_size : k * mini_batch_size + mini_batch_size,:,:,:]\n",
        "        mini_batch_Y = shuffled_Y[k * mini_batch_size : k * mini_batch_size + mini_batch_size,:]\n",
        "        mini_batch = (mini_batch_X, mini_batch_Y)\n",
        "        mini_batches.append(mini_batch)\n",
        "    \n",
        "    # Handling the end case (last mini-batch < mini_batch_size)\n",
        "    if m % mini_batch_size != 0:\n",
        "        mini_batch_X = shuffled_X[num_complete_minibatches * mini_batch_size : m,:,:,:]\n",
        "        mini_batch_Y = shuffled_Y[num_complete_minibatches * mini_batch_size : m,:]\n",
        "        mini_batch = (mini_batch_X, mini_batch_Y)\n",
        "        mini_batches.append(mini_batch)\n",
        "    \n",
        "    return mini_batches"
      ],
      "execution_count": 0,
      "outputs": []
    },
    {
      "metadata": {
        "id": "K99un4n_BkQL",
        "colab_type": "code",
        "colab": {}
      },
      "cell_type": "code",
      "source": [
        "\n",
        "def model(X_train, Y_train,X_test,Y_test, learn_rate=0.009, minibatch=64, epochs=100):\n",
        "    tf.reset_default_graph()\n",
        "    # make tensorflow graph\n",
        "    # I am not using minibatch and validation data\n",
        "\n",
        "    # create placeholders to hold Batch of images and their labels\n",
        "    X = tf.placeholder(tf.float32, name=\"X\", shape=(None, 28,28,1))\n",
        "    Y = tf.placeholder(tf.float32, name=\"Y\", shape= (None, 10))\n",
        "\n",
        "    # later we'll plot graph\n",
        "    costs = []\n",
        "\n",
        "    W1, W2 = initialize()\n",
        "    Z3 = forward_prop(X, W1, W2)\n",
        "    cost = find_cost(Z3, Y)\n",
        "\n",
        "    optimizer = tf.train.AdamOptimizer(learning_rate=learn_rate).minimize(loss=cost)\n",
        "    accuracy = tf.reduce_mean(tf.cast(tf.equal(tf.argmax(Z3, axis=1), tf.argmax(Y, axis=1)),\"float\"))\n",
        "\n",
        "    with tf.Session() as sess:\n",
        "      \n",
        "        sess.run(tf.global_variables_initializer())\n",
        "        \n",
        "        \n",
        "        for epoch in range(epochs):\n",
        "            minibatch_cost = 0\n",
        "            num_minibatch = int(X_train.shape[0]/minibatch)\n",
        "            minibatches = random_mini_batches(X_train, Y_train,128)\n",
        "            \n",
        "            for batch in minibatches:\n",
        "              (X_mini,Y_mini) = batch\n",
        "              _, total_cost = sess.run([optimizer, cost], feed_dict={X: X_mini, Y: Y_mini})\n",
        "              minibatch_cost += total_cost\n",
        "              \n",
        "            costs.append(minibatch_cost)\n",
        "            print(epoch+1, \" epochs cost \", minibatch_cost)\n",
        "            print(\"Train accuracy : \", sess.run(accuracy, feed_dict={X: X_train[:5000], Y: Y_train[:5000]}))\n",
        "            print(\"Test accuracy : \", sess.run(accuracy, feed_dict={X: X_test[:5000], Y: Y_test[:5000]}))\n",
        "\n",
        "        plt.plot(np.squeeze(costs))\n",
        "        plt.ylabel(\"Cost\")\n",
        "        plt.xlabel(\"epochs\")\n",
        "\n",
        "        # check train accuracy\n",
        "        \n",
        "        \n",
        "        \n",
        "\n"
      ],
      "execution_count": 0,
      "outputs": []
    },
    {
      "metadata": {
        "id": "Utce7Gh-BtRp",
        "colab_type": "code",
        "colab": {
          "base_uri": "https://localhost:8080/",
          "height": 1350
        },
        "outputId": "0f206742-a0c4-40e8-fa6b-6e668ee785be"
      },
      "cell_type": "code",
      "source": [
        "model(X_train,y_train,X_test,y_test, epochs=20)"
      ],
      "execution_count": 90,
      "outputs": [
        {
          "output_type": "stream",
          "text": [
            "1  epochs cost  413.45312608778477\n",
            "Train accuracy :  0.9278\n",
            "Test accuracy :  0.9144\n",
            "2  epochs cost  117.00037544593215\n",
            "Train accuracy :  0.9316\n",
            "Test accuracy :  0.9172\n",
            "3  epochs cost  106.09515355527401\n",
            "Train accuracy :  0.9392\n",
            "Test accuracy :  0.9226\n",
            "4  epochs cost  104.41658892482519\n",
            "Train accuracy :  0.9492\n",
            "Test accuracy :  0.9244\n",
            "5  epochs cost  98.55731804668903\n",
            "Train accuracy :  0.9416\n",
            "Test accuracy :  0.9184\n",
            "6  epochs cost  99.02692558988929\n",
            "Train accuracy :  0.9482\n",
            "Test accuracy :  0.9212\n",
            "7  epochs cost  100.29497876763344\n",
            "Train accuracy :  0.954\n",
            "Test accuracy :  0.916\n",
            "8  epochs cost  101.73382568731904\n",
            "Train accuracy :  0.9336\n",
            "Test accuracy :  0.901\n",
            "9  epochs cost  109.48132852837443\n",
            "Train accuracy :  0.9468\n",
            "Test accuracy :  0.922\n",
            "10  epochs cost  97.46745849400759\n",
            "Train accuracy :  0.9454\n",
            "Test accuracy :  0.9156\n",
            "11  epochs cost  100.95887476578355\n",
            "Train accuracy :  0.9382\n",
            "Test accuracy :  0.9184\n",
            "12  epochs cost  119.53756131231785\n",
            "Train accuracy :  0.933\n",
            "Test accuracy :  0.8994\n",
            "13  epochs cost  95.46032493934035\n",
            "Train accuracy :  0.9438\n",
            "Test accuracy :  0.91\n",
            "14  epochs cost  96.50550690665841\n",
            "Train accuracy :  0.941\n",
            "Test accuracy :  0.9144\n",
            "15  epochs cost  97.97970740310848\n",
            "Train accuracy :  0.9472\n",
            "Test accuracy :  0.9152\n",
            "16  epochs cost  111.17940658703446\n",
            "Train accuracy :  0.9466\n",
            "Test accuracy :  0.9184\n",
            "17  epochs cost  97.39917995780706\n",
            "Train accuracy :  0.9512\n",
            "Test accuracy :  0.9254\n",
            "18  epochs cost  89.33947279769927\n",
            "Train accuracy :  0.955\n",
            "Test accuracy :  0.9206\n",
            "19  epochs cost  104.00882016122341\n",
            "Train accuracy :  0.9458\n",
            "Test accuracy :  0.915\n",
            "20  epochs cost  100.94690456986427\n",
            "Train accuracy :  0.9312\n",
            "Test accuracy :  0.9084\n"
          ],
          "name": "stdout"
        },
        {
          "output_type": "display_data",
          "data": {
            "image/png": "[encoded data removed]",
            "text/plain": [
              "<matplotlib.figure.Figure at 0x7fcd63946390>"
            ]
          },
          "metadata": {
            "tags": []
          }
        }
      ]
    },
    {
      "metadata": {
        "id": "kuNrtkBVD3pQ",
        "colab_type": "code",
        "colab": {}
      },
      "cell_type": "code",
      "source": [
        ""
      ],
      "execution_count": 0,
      "outputs": []
    }
  ]
}