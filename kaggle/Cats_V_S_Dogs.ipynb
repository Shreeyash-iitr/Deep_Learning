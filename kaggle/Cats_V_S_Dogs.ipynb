{
  "nbformat": 4,
  "nbformat_minor": 0,
  "metadata": {
    "colab": {
      "name": "Cats_V_S_Dogs.ipynb",
      "version": "0.3.2",
      "provenance": [],
      "collapsed_sections": []
    },
    "kernelspec": {
      "name": "python3",
      "display_name": "Python 3"
    },
    "accelerator": "GPU"
  },
  "cells": [
    {
      "metadata": {
        "id": "qcHl86MSYBET",
        "colab_type": "code",
        "colab": {}
      },
      "cell_type": "code",
      "source": [
        "from google.colab import files"
      ],
      "execution_count": 0,
      "outputs": []
    },
    {
      "metadata": {
        "id": "ib_mUR0nYG0J",
        "colab_type": "code",
        "colab": {
          "resources": {
            "http://localhost:8080/nbextensions/google.colab/files.js": {
              "data": "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",
              "ok": true,
              "headers": [
                [
                  "content-type",
                  "application/javascript"
                ]
              ],
              "status": 200,
              "status_text": ""
            }
          },
          "base_uri": "https://localhost:8080/",
          "height": 90
        },
        "outputId": "d9d1047f-b30e-4fad-dc3d-01bf26ad9f4f"
      },
      "cell_type": "code",
      "source": [
        "files.upload()"
      ],
      "execution_count": 3,
      "outputs": [
        {
          "output_type": "display_data",
          "data": {
            "text/html": [
              "\n",
              "     <input type=\"file\" id=\"files-393f709e-60ae-434a-b88b-21980cdbcdb7\" name=\"files[]\" multiple disabled />\n",
              "     <output id=\"result-393f709e-60ae-434a-b88b-21980cdbcdb7\">\n",
              "      Upload widget is only available when the cell has been executed in the\n",
              "      current browser session. Please rerun this cell to enable.\n",
              "      </output>\n",
              "      <script src=\"/nbextensions/google.colab/files.js\"></script> "
            ],
            "text/plain": [
              "<IPython.core.display.HTML object>"
            ]
          },
          "metadata": {
            "tags": []
          }
        },
        {
          "output_type": "stream",
          "text": [
            "Saving kaggle.json to kaggle.json\n"
          ],
          "name": "stdout"
        },
        {
          "output_type": "execute_result",
          "data": {
            "text/plain": [
              "{'kaggle.json': b'{\"username\":\"shreeyash6199\",\"key\":\"fa0ace82f613ab882fd3fb0b94916db0\"}'}"
            ]
          },
          "metadata": {
            "tags": []
          },
          "execution_count": 3
        }
      ]
    },
    {
      "metadata": {
        "id": "LrDe5by2YKv-",
        "colab_type": "code",
        "colab": {}
      },
      "cell_type": "code",
      "source": [
        "!pip install -q kaggle"
      ],
      "execution_count": 0,
      "outputs": []
    },
    {
      "metadata": {
        "id": "ttj_yNmAYTW-",
        "colab_type": "code",
        "colab": {}
      },
      "cell_type": "code",
      "source": [
        "!mkdir -p ~/.kaggle"
      ],
      "execution_count": 0,
      "outputs": []
    },
    {
      "metadata": {
        "id": "AEeewa2GYcvt",
        "colab_type": "code",
        "colab": {}
      },
      "cell_type": "code",
      "source": [
        "!cp kaggle.json ~/.kaggle/"
      ],
      "execution_count": 0,
      "outputs": []
    },
    {
      "metadata": {
        "id": "chvxHf-O9iBp",
        "colab_type": "text"
      },
      "cell_type": "markdown",
      "source": [
        ">Now download kaggle dataset."
      ]
    },
    {
      "metadata": {
        "id": "GFSBLQhDYzY1",
        "colab_type": "code",
        "colab": {
          "base_uri": "https://localhost:8080/",
          "height": 193
        },
        "outputId": "89cedd30-cab8-445d-949c-ffa307aba57f"
      },
      "cell_type": "code",
      "source": [
        "!kaggle competitions download -c dogs-vs-cats-redux-kernels-edition"
      ],
      "execution_count": 7,
      "outputs": [
        {
          "output_type": "stream",
          "text": [
            "Warning: Your Kaggle API key is readable by otherusers on this system! To fix this, you can run'chmod 600 /root/.kaggle/kaggle.json'\n",
            "Downloading test.zip to /content\n",
            " 94%|██████████████████████████████████████▍  | 254M/271M [00:02<00:00, 118MB/s]\n",
            "100%|█████████████████████████████████████████| 271M/271M [00:02<00:00, 132MB/s]\n",
            "Downloading train.zip to /content\n",
            " 99%|████████████████████████████████████████▋| 539M/544M [00:04<00:00, 189MB/s]\n",
            "100%|█████████████████████████████████████████| 544M/544M [00:04<00:00, 140MB/s]\n",
            "Downloading sample_submission.csv to /content\n",
            "  0%|                                                | 0.00/111k [00:00<?, ?B/s]\n",
            "100%|████████████████████████████████████████| 111k/111k [00:00<00:00, 53.2MB/s]\n"
          ],
          "name": "stdout"
        }
      ]
    },
    {
      "metadata": {
        "id": "1BonJuTAZI_r",
        "colab_type": "code",
        "colab": {}
      },
      "cell_type": "code",
      "source": [
        "!ls train"
      ],
      "execution_count": 0,
      "outputs": []
    },
    {
      "metadata": {
        "id": "JAo4VHK5a9Jm",
        "colab_type": "code",
        "colab": {}
      },
      "cell_type": "code",
      "source": [
        "!unzip test.zip"
      ],
      "execution_count": 0,
      "outputs": []
    },
    {
      "metadata": {
        "id": "HUNg_EMCbBnx",
        "colab_type": "code",
        "colab": {}
      },
      "cell_type": "code",
      "source": [
        "!unzip train.zip"
      ],
      "execution_count": 0,
      "outputs": []
    },
    {
      "metadata": {
        "id": "F6bp8Ve3-Wiw",
        "colab_type": "text"
      },
      "cell_type": "markdown",
      "source": [
        "\n",
        "\n",
        "*   import all required libraries \n",
        "*   we will use tensorflow layers framework.\n",
        "\n"
      ]
    },
    {
      "metadata": {
        "id": "U_FSMaPgauJf",
        "colab_type": "code",
        "colab": {}
      },
      "cell_type": "code",
      "source": [
        "import os\n",
        "import cv2\n",
        "import random\n",
        "import numpy\n",
        "import pickle\n",
        "import matplotlib.pyplot as plt\n",
        "import keras\n",
        "from keras.models import Sequential\n",
        "from keras import layers\n",
        "%matplotlib inline"
      ],
      "execution_count": 0,
      "outputs": []
    },
    {
      "metadata": {
        "id": "K4fJ-I3lAA35",
        "colab_type": "text"
      },
      "cell_type": "markdown",
      "source": [
        "\n",
        "\n",
        "> **Preprocessing Images**\n",
        "\n",
        "> >resizing images to shape (100,100,3) and then storing dataset into a numpy array. OpenCV is used for basic processing on images.\n",
        "\n"
      ]
    },
    {
      "metadata": {
        "id": "kP0Byl27c2d8",
        "colab_type": "code",
        "colab": {}
      },
      "cell_type": "code",
      "source": [
        "images = []\n",
        "labels = []\n",
        "\n",
        "for img in os.listdir('train/'):\n",
        "    path = \"train/\" + str(img) \n",
        "    image = cv2.imread(str(path))\n",
        "    image = cv2.cvtColor(image, cv2.COLOR_BGR2RGB)\n",
        "    image = cv2.resize(image,(64,64))\n",
        "    images.append(image)\n",
        "    if img[:3] == \"cat\":                  # cat >> 0\n",
        "        labels.append(int(0))\n",
        "    elif img[:3] == \"dog\":                # dog >> 1\n",
        "        labels.append(int(1))\n",
        "\n",
        "images = numpy.array(images)\n",
        "labels = numpy.array(labels)        "
      ],
      "execution_count": 0,
      "outputs": []
    },
    {
      "metadata": {
        "id": "o99TJLMGAczt",
        "colab_type": "text"
      },
      "cell_type": "markdown",
      "source": [
        "> > Note that here I am reshaping y_train and y_test array to [-1,1] because it will convert its shape from (?, ) to (?, 1). It will reduce future errors. "
      ]
    },
    {
      "metadata": {
        "id": "A13344MyeF4V",
        "colab_type": "code",
        "colab": {}
      },
      "cell_type": "code",
      "source": [
        "import sklearn.cross_validation\n",
        "X_train, X_test, y_train, y_test = sklearn.cross_validation.train_test_split(images, labels, test_size=0.05)\n",
        "y_train = numpy.asarray(y_train, dtype = 'int')\n",
        "y_train = numpy.reshape(y_train,[-1,1])\n",
        "y_test = numpy.reshape(y_test,[-1,1])\n"
      ],
      "execution_count": 0,
      "outputs": []
    },
    {
      "metadata": {
        "id": "NSdy3-y1egq9",
        "colab_type": "code",
        "colab": {
          "base_uri": "https://localhost:8080/",
          "height": 287
        },
        "outputId": "4d37d565-41b4-4d42-d950-a60c17330344"
      },
      "cell_type": "code",
      "source": [
        "gray = cv2.cvtColor(X_test[1], cv2.COLOR_BGR2GRAY)\n",
        "plt.imshow(gray)\n",
        "y_test[1]"
      ],
      "execution_count": 42,
      "outputs": [
        {
          "output_type": "execute_result",
          "data": {
            "text/plain": [
              "array([0])"
            ]
          },
          "metadata": {
            "tags": []
          },
          "execution_count": 42
        },
        {
          "output_type": "display_data",
          "data": {
            "image/png": "[encoded data removed]",
            "text/plain": [
              "<matplotlib.figure.Figure at 0x7f420a2a7160>"
            ]
          },
          "metadata": {
            "tags": []
          }
        }
      ]
    },
    {
      "metadata": {
        "id": "HkuATUHXaJU8",
        "colab_type": "code",
        "colab": {}
      },
      "cell_type": "code",
      "source": [
        "X_train = X_train/255\n",
        "X_test = X_test/255"
      ],
      "execution_count": 0,
      "outputs": []
    },
    {
      "metadata": {
        "id": "kgPmm4ZDD0sq",
        "colab_type": "code",
        "colab": {}
      },
      "cell_type": "code",
      "source": [
        "model = Sequential()\n",
        "model.add(layers.Conv2D(filters=32, kernel_size=3,activation=layers.activations.relu,data_format='channels_last',input_shape=[64,64,3]))\n",
        "model.add(layers.MaxPool2D(pool_size=2,strides=2))\n",
        "model.add(layers.Conv2D(filters=64, kernel_size=3,activation=layers.activations.relu))\n",
        "model.add(layers.MaxPool2D(pool_size=2,strides=2))\n",
        "model.add(layers.Conv2D(filters=128, kernel_size=3,activation=layers.activations.relu))\n",
        "model.add(layers.MaxPool2D(pool_size=2,strides=2))\n",
        "model.add(layers.Conv2D(filters=512, kernel_size=3,activation=layers.activations.relu))\n",
        "model.add(layers.MaxPool2D(pool_size=2,strides=2))\n",
        "model.add(layers.Flatten())\n",
        "model.add(layers.Dense(128,activation=layers.activations.relu))\n",
        "model.add(layers.Dense(128,activation=layers.activations.relu))\n",
        "model.add(layers.Dense(2, activation=layers.activations.softmax))"
      ],
      "execution_count": 0,
      "outputs": []
    },
    {
      "metadata": {
        "id": "MCKfrWBKJNLr",
        "colab_type": "code",
        "colab": {}
      },
      "cell_type": "code",
      "source": [
        "model.compile(optimizer = keras.optimizers.Adam(lr=1e-5),loss = keras.losses.sparse_categorical_crossentropy,metrics=['accuracy'])"
      ],
      "execution_count": 0,
      "outputs": []
    },
    {
      "metadata": {
        "id": "bjZI0al1KVC4",
        "colab_type": "code",
        "colab": {}
      },
      "cell_type": "code",
      "source": [
        "from keras.callbacks import TensorBoard\n",
        "from time import time\n",
        "tensorboard_ = TensorBoard(log_dir=\"logs/{}\".format(time()))"
      ],
      "execution_count": 0,
      "outputs": []
    },
    {
      "metadata": {
        "id": "RW0SHkHUHeXB",
        "colab_type": "code",
        "colab": {
          "base_uri": "https://localhost:8080/",
          "height": 1921
        },
        "outputId": "689e7820-6055-4e23-c10a-764dde5522dc"
      },
      "cell_type": "code",
      "source": [
        "model.fit(x=X_train, y=y_train, batch_size=128, epochs=50,verbose=2,validation_split = 0.1, callbacks=[tensorboard_])\n"
      ],
      "execution_count": 58,
      "outputs": [
        {
          "output_type": "stream",
          "text": [
            "Train on 21375 samples, validate on 2375 samples\n",
            "Epoch 1/50\n",
            " - 9s - loss: 0.5718 - acc: 0.7070 - val_loss: 0.5674 - val_acc: 0.7086\n",
            "Epoch 2/50\n",
            " - 9s - loss: 0.5661 - acc: 0.7105 - val_loss: 0.5644 - val_acc: 0.7015\n",
            "Epoch 3/50\n",
            " - 9s - loss: 0.5589 - acc: 0.7156 - val_loss: 0.5589 - val_acc: 0.7069\n",
            "Epoch 4/50\n",
            " - 8s - loss: 0.5498 - acc: 0.7223 - val_loss: 0.5496 - val_acc: 0.7200\n",
            "Epoch 5/50\n",
            " - 8s - loss: 0.5456 - acc: 0.7282 - val_loss: 0.5444 - val_acc: 0.7175\n",
            "Epoch 6/50\n",
            " - 8s - loss: 0.5388 - acc: 0.7302 - val_loss: 0.5404 - val_acc: 0.7272\n",
            "Epoch 7/50\n",
            " - 8s - loss: 0.5296 - acc: 0.7399 - val_loss: 0.5328 - val_acc: 0.7322\n",
            "Epoch 8/50\n",
            " - 9s - loss: 0.5245 - acc: 0.7429 - val_loss: 0.5290 - val_acc: 0.7305\n",
            "Epoch 9/50\n",
            " - 8s - loss: 0.5191 - acc: 0.7466 - val_loss: 0.5230 - val_acc: 0.7364\n",
            "Epoch 10/50\n",
            " - 8s - loss: 0.5131 - acc: 0.7504 - val_loss: 0.5144 - val_acc: 0.7461\n",
            "Epoch 11/50\n",
            " - 8s - loss: 0.5071 - acc: 0.7546 - val_loss: 0.5157 - val_acc: 0.7469\n",
            "Epoch 12/50\n",
            " - 8s - loss: 0.5022 - acc: 0.7573 - val_loss: 0.5048 - val_acc: 0.7562\n",
            "Epoch 13/50\n",
            " - 8s - loss: 0.4973 - acc: 0.7605 - val_loss: 0.5118 - val_acc: 0.7411\n",
            "Epoch 14/50\n",
            " - 8s - loss: 0.4963 - acc: 0.7584 - val_loss: 0.4974 - val_acc: 0.7579\n",
            "Epoch 15/50\n",
            " - 8s - loss: 0.4881 - acc: 0.7660 - val_loss: 0.5091 - val_acc: 0.7440\n",
            "Epoch 16/50\n",
            " - 8s - loss: 0.4826 - acc: 0.7702 - val_loss: 0.4904 - val_acc: 0.7659\n",
            "Epoch 17/50\n",
            " - 8s - loss: 0.4821 - acc: 0.7719 - val_loss: 0.4965 - val_acc: 0.7520\n",
            "Epoch 18/50\n",
            " - 8s - loss: 0.4774 - acc: 0.7728 - val_loss: 0.4911 - val_acc: 0.7600\n",
            "Epoch 19/50\n",
            " - 8s - loss: 0.4746 - acc: 0.7736 - val_loss: 0.5002 - val_acc: 0.7617\n",
            "Epoch 20/50\n",
            " - 8s - loss: 0.4689 - acc: 0.7775 - val_loss: 0.4899 - val_acc: 0.7554\n",
            "Epoch 21/50\n",
            " - 8s - loss: 0.4662 - acc: 0.7809 - val_loss: 0.4776 - val_acc: 0.7722\n",
            "Epoch 22/50\n",
            " - 8s - loss: 0.4603 - acc: 0.7856 - val_loss: 0.4734 - val_acc: 0.7773\n",
            "Epoch 23/50\n",
            " - 8s - loss: 0.4588 - acc: 0.7856 - val_loss: 0.4707 - val_acc: 0.7853\n",
            "Epoch 24/50\n",
            " - 8s - loss: 0.4551 - acc: 0.7871 - val_loss: 0.4689 - val_acc: 0.7789\n",
            "Epoch 25/50\n",
            " - 8s - loss: 0.4507 - acc: 0.7919 - val_loss: 0.4685 - val_acc: 0.7764\n",
            "Epoch 26/50\n",
            " - 8s - loss: 0.4476 - acc: 0.7925 - val_loss: 0.4669 - val_acc: 0.7798\n",
            "Epoch 27/50\n",
            " - 8s - loss: 0.4472 - acc: 0.7915 - val_loss: 0.4635 - val_acc: 0.7827\n",
            "Epoch 28/50\n",
            " - 8s - loss: 0.4430 - acc: 0.7954 - val_loss: 0.4634 - val_acc: 0.7789\n",
            "Epoch 29/50\n",
            " - 8s - loss: 0.4380 - acc: 0.7987 - val_loss: 0.4590 - val_acc: 0.7840\n",
            "Epoch 30/50\n",
            " - 8s - loss: 0.4371 - acc: 0.7999 - val_loss: 0.4658 - val_acc: 0.7726\n",
            "Epoch 31/50\n",
            " - 8s - loss: 0.4311 - acc: 0.8041 - val_loss: 0.4565 - val_acc: 0.7878\n",
            "Epoch 32/50\n",
            " - 8s - loss: 0.4302 - acc: 0.8025 - val_loss: 0.4559 - val_acc: 0.7874\n",
            "Epoch 33/50\n",
            " - 8s - loss: 0.4255 - acc: 0.8070 - val_loss: 0.4523 - val_acc: 0.7903\n",
            "Epoch 34/50\n",
            " - 8s - loss: 0.4231 - acc: 0.8077 - val_loss: 0.4484 - val_acc: 0.7941\n",
            "Epoch 35/50\n",
            " - 8s - loss: 0.4215 - acc: 0.8096 - val_loss: 0.4465 - val_acc: 0.7924\n",
            "Epoch 36/50\n",
            " - 8s - loss: 0.4197 - acc: 0.8102 - val_loss: 0.4459 - val_acc: 0.7928\n",
            "Epoch 37/50\n",
            " - 8s - loss: 0.4150 - acc: 0.8127 - val_loss: 0.4444 - val_acc: 0.7882\n",
            "Epoch 38/50\n",
            " - 8s - loss: 0.4113 - acc: 0.8153 - val_loss: 0.4422 - val_acc: 0.7937\n",
            "Epoch 39/50\n",
            " - 8s - loss: 0.4101 - acc: 0.8166 - val_loss: 0.4409 - val_acc: 0.7916\n",
            "Epoch 40/50\n",
            " - 9s - loss: 0.4054 - acc: 0.8187 - val_loss: 0.4402 - val_acc: 0.7954\n",
            "Epoch 41/50\n",
            " - 8s - loss: 0.4041 - acc: 0.8199 - val_loss: 0.4416 - val_acc: 0.7954\n",
            "Epoch 42/50\n",
            " - 8s - loss: 0.4048 - acc: 0.8165 - val_loss: 0.4413 - val_acc: 0.7979\n",
            "Epoch 43/50\n",
            " - 8s - loss: 0.3992 - acc: 0.8214 - val_loss: 0.4348 - val_acc: 0.7937\n",
            "Epoch 44/50\n",
            " - 8s - loss: 0.3978 - acc: 0.8216 - val_loss: 0.4325 - val_acc: 0.7954\n",
            "Epoch 45/50\n",
            " - 8s - loss: 0.3946 - acc: 0.8224 - val_loss: 0.4388 - val_acc: 0.8004\n",
            "Epoch 46/50\n",
            " - 8s - loss: 0.3900 - acc: 0.8267 - val_loss: 0.4354 - val_acc: 0.7992\n",
            "Epoch 47/50\n",
            " - 8s - loss: 0.3896 - acc: 0.8260 - val_loss: 0.4293 - val_acc: 0.7979\n",
            "Epoch 48/50\n",
            " - 8s - loss: 0.3878 - acc: 0.8289 - val_loss: 0.4364 - val_acc: 0.7971\n",
            "Epoch 49/50\n",
            " - 8s - loss: 0.3859 - acc: 0.8290 - val_loss: 0.4374 - val_acc: 0.7924\n",
            "Epoch 50/50\n",
            " - 8s - loss: 0.3819 - acc: 0.8301 - val_loss: 0.4722 - val_acc: 0.7823\n"
          ],
          "name": "stdout"
        },
        {
          "output_type": "execute_result",
          "data": {
            "text/plain": [
              "<keras.callbacks.History at 0x7f4236826da0>"
            ]
          },
          "metadata": {
            "tags": []
          },
          "execution_count": 58
        }
      ]
    },
    {
      "metadata": {
        "id": "ZSpb3k3dPte_",
        "colab_type": "code",
        "colab": {
          "base_uri": "https://localhost:8080/",
          "height": 55
        },
        "outputId": "edafd21e-a1b3-4d9d-983a-2411486a866b"
      },
      "cell_type": "code",
      "source": [
        "score=model.evaluate(x=X_test, y=y_test)\n",
        "print(score)"
      ],
      "execution_count": 66,
      "outputs": [
        {
          "output_type": "stream",
          "text": [
            "1250/1250 [==============================] - 0s 374us/step\n",
            "[0.4247300512909889, 0.804]\n"
          ],
          "name": "stdout"
        }
      ]
    },
    {
      "metadata": {
        "id": "L-0hy_N2Oi0R",
        "colab_type": "code",
        "colab": {
          "base_uri": "https://localhost:8080/",
          "height": 596
        },
        "outputId": "32a76f2b-74f1-4509-b3dd-7460a3e0544c"
      },
      "cell_type": "code",
      "source": [
        "model.summary()"
      ],
      "execution_count": 61,
      "outputs": [
        {
          "output_type": "stream",
          "text": [
            "_________________________________________________________________\n",
            "Layer (type)                 Output Shape              Param #   \n",
            "=================================================================\n",
            "conv2d_7 (Conv2D)            (None, 62, 62, 32)        896       \n",
            "_________________________________________________________________\n",
            "max_pooling2d_5 (MaxPooling2 (None, 31, 31, 32)        0         \n",
            "_________________________________________________________________\n",
            "conv2d_8 (Conv2D)            (None, 29, 29, 64)        18496     \n",
            "_________________________________________________________________\n",
            "max_pooling2d_6 (MaxPooling2 (None, 14, 14, 64)        0         \n",
            "_________________________________________________________________\n",
            "conv2d_9 (Conv2D)            (None, 12, 12, 128)       73856     \n",
            "_________________________________________________________________\n",
            "max_pooling2d_7 (MaxPooling2 (None, 6, 6, 128)         0         \n",
            "_________________________________________________________________\n",
            "conv2d_10 (Conv2D)           (None, 4, 4, 512)         590336    \n",
            "_________________________________________________________________\n",
            "max_pooling2d_8 (MaxPooling2 (None, 2, 2, 512)         0         \n",
            "_________________________________________________________________\n",
            "flatten_2 (Flatten)          (None, 2048)              0         \n",
            "_________________________________________________________________\n",
            "dense_4 (Dense)              (None, 128)               262272    \n",
            "_________________________________________________________________\n",
            "dense_5 (Dense)              (None, 128)               16512     \n",
            "_________________________________________________________________\n",
            "dense_6 (Dense)              (None, 2)                 258       \n",
            "=================================================================\n",
            "Total params: 962,626\n",
            "Trainable params: 962,626\n",
            "Non-trainable params: 0\n",
            "_________________________________________________________________\n"
          ],
          "name": "stdout"
        }
      ]
    },
    {
      "metadata": {
        "id": "6BOvqSO5Lzhn",
        "colab_type": "code",
        "colab": {
          "base_uri": "https://localhost:8080/",
          "height": 1921
        },
        "outputId": "06c92fc4-31a8-4727-bfb4-255215ae07ba"
      },
      "cell_type": "code",
      "source": [
        "model2 = Sequential()\n",
        "model2.add(layers.Conv2D(filters=32, kernel_size=3,activation=layers.activations.relu,data_format='channels_last',input_shape=[64,64,3]))\n",
        "model2.add(layers.MaxPool2D(pool_size=2,strides=2))\n",
        "model2.add(layers.Conv2D(filters=64, kernel_size=3,activation=layers.activations.relu))\n",
        "model2.add(layers.MaxPool2D(pool_size=2,strides=2))\n",
        "model2.add(layers.Flatten())\n",
        "model2.add(layers.Dense(128,activation=layers.activations.relu))\n",
        "model2.add(layers.Dense(128,activation=layers.activations.relu))\n",
        "model2.add(layers.Dense(2, activation=layers.activations.softmax))\n",
        "model2.compile(optimizer = keras.optimizers.Adam(lr=1e-5),loss = keras.losses.sparse_categorical_crossentropy,metrics=['accuracy'])\n",
        "model2.fit(x=X_train, y=y_train, batch_size=128, epochs=50,verbose=2,validation_split = 0.1)"
      ],
      "execution_count": 62,
      "outputs": [
        {
          "output_type": "stream",
          "text": [
            "Train on 21375 samples, validate on 2375 samples\n",
            "Epoch 1/50\n",
            " - 7s - loss: 0.6852 - acc: 0.5690 - val_loss: 0.6749 - val_acc: 0.6139\n",
            "Epoch 2/50\n",
            " - 7s - loss: 0.6646 - acc: 0.6277 - val_loss: 0.6512 - val_acc: 0.6467\n",
            "Epoch 3/50\n",
            " - 7s - loss: 0.6423 - acc: 0.6531 - val_loss: 0.6322 - val_acc: 0.6547\n",
            "Epoch 4/50\n",
            " - 7s - loss: 0.6205 - acc: 0.6783 - val_loss: 0.6101 - val_acc: 0.6851\n",
            "Epoch 5/50\n",
            " - 7s - loss: 0.6016 - acc: 0.6900 - val_loss: 0.5965 - val_acc: 0.6884\n",
            "Epoch 6/50\n",
            " - 7s - loss: 0.5880 - acc: 0.6945 - val_loss: 0.5914 - val_acc: 0.6926\n",
            "Epoch 7/50\n",
            " - 7s - loss: 0.5769 - acc: 0.7034 - val_loss: 0.5759 - val_acc: 0.7086\n",
            "Epoch 8/50\n",
            " - 7s - loss: 0.5671 - acc: 0.7098 - val_loss: 0.5691 - val_acc: 0.7065\n",
            "Epoch 9/50\n",
            " - 7s - loss: 0.5582 - acc: 0.7171 - val_loss: 0.5656 - val_acc: 0.7078\n",
            "Epoch 10/50\n",
            " - 7s - loss: 0.5503 - acc: 0.7234 - val_loss: 0.5624 - val_acc: 0.7141\n",
            "Epoch 11/50\n",
            " - 7s - loss: 0.5455 - acc: 0.7274 - val_loss: 0.5538 - val_acc: 0.7183\n",
            "Epoch 12/50\n",
            " - 7s - loss: 0.5372 - acc: 0.7350 - val_loss: 0.5510 - val_acc: 0.7208\n",
            "Epoch 13/50\n",
            " - 7s - loss: 0.5299 - acc: 0.7410 - val_loss: 0.5409 - val_acc: 0.7251\n",
            "Epoch 14/50\n",
            " - 7s - loss: 0.5231 - acc: 0.7459 - val_loss: 0.5438 - val_acc: 0.7204\n",
            "Epoch 15/50\n",
            " - 7s - loss: 0.5165 - acc: 0.7515 - val_loss: 0.5318 - val_acc: 0.7284\n",
            "Epoch 16/50\n",
            " - 7s - loss: 0.5105 - acc: 0.7558 - val_loss: 0.5268 - val_acc: 0.7360\n",
            "Epoch 17/50\n",
            " - 7s - loss: 0.5038 - acc: 0.7620 - val_loss: 0.5285 - val_acc: 0.7360\n",
            "Epoch 18/50\n",
            " - 7s - loss: 0.4982 - acc: 0.7662 - val_loss: 0.5207 - val_acc: 0.7406\n",
            "Epoch 19/50\n",
            " - 7s - loss: 0.4930 - acc: 0.7695 - val_loss: 0.5254 - val_acc: 0.7335\n",
            "Epoch 20/50\n",
            " - 7s - loss: 0.4871 - acc: 0.7754 - val_loss: 0.5113 - val_acc: 0.7465\n",
            "Epoch 21/50\n",
            " - 7s - loss: 0.4813 - acc: 0.7792 - val_loss: 0.5097 - val_acc: 0.7453\n",
            "Epoch 22/50\n",
            " - 7s - loss: 0.4763 - acc: 0.7819 - val_loss: 0.5047 - val_acc: 0.7495\n",
            "Epoch 23/50\n",
            " - 7s - loss: 0.4723 - acc: 0.7816 - val_loss: 0.5011 - val_acc: 0.7512\n",
            "Epoch 24/50\n",
            " - 7s - loss: 0.4672 - acc: 0.7884 - val_loss: 0.4991 - val_acc: 0.7512\n",
            "Epoch 25/50\n",
            " - 7s - loss: 0.4630 - acc: 0.7903 - val_loss: 0.4981 - val_acc: 0.7549\n",
            "Epoch 26/50\n",
            " - 7s - loss: 0.4608 - acc: 0.7888 - val_loss: 0.4922 - val_acc: 0.7600\n",
            "Epoch 27/50\n",
            " - 7s - loss: 0.4555 - acc: 0.7937 - val_loss: 0.4933 - val_acc: 0.7549\n",
            "Epoch 28/50\n",
            " - 7s - loss: 0.4514 - acc: 0.7958 - val_loss: 0.4900 - val_acc: 0.7554\n",
            "Epoch 29/50\n",
            " - 7s - loss: 0.4473 - acc: 0.7983 - val_loss: 0.4890 - val_acc: 0.7592\n",
            "Epoch 30/50\n",
            " - 7s - loss: 0.4449 - acc: 0.7986 - val_loss: 0.4851 - val_acc: 0.7676\n",
            "Epoch 31/50\n",
            " - 7s - loss: 0.4403 - acc: 0.8008 - val_loss: 0.4841 - val_acc: 0.7638\n",
            "Epoch 32/50\n",
            " - 7s - loss: 0.4382 - acc: 0.8031 - val_loss: 0.4822 - val_acc: 0.7634\n",
            "Epoch 33/50\n",
            " - 7s - loss: 0.4357 - acc: 0.8041 - val_loss: 0.4816 - val_acc: 0.7634\n",
            "Epoch 34/50\n",
            " - 7s - loss: 0.4319 - acc: 0.8073 - val_loss: 0.4844 - val_acc: 0.7613\n",
            "Epoch 35/50\n",
            " - 7s - loss: 0.4291 - acc: 0.8085 - val_loss: 0.4785 - val_acc: 0.7705\n",
            "Epoch 36/50\n",
            " - 7s - loss: 0.4256 - acc: 0.8099 - val_loss: 0.4919 - val_acc: 0.7583\n",
            "Epoch 37/50\n",
            " - 7s - loss: 0.4260 - acc: 0.8081 - val_loss: 0.4804 - val_acc: 0.7676\n",
            "Epoch 38/50\n",
            " - 7s - loss: 0.4190 - acc: 0.8140 - val_loss: 0.4740 - val_acc: 0.7735\n",
            "Epoch 39/50\n",
            " - 7s - loss: 0.4160 - acc: 0.8152 - val_loss: 0.4755 - val_acc: 0.7714\n",
            "Epoch 40/50\n",
            " - 7s - loss: 0.4141 - acc: 0.8171 - val_loss: 0.4749 - val_acc: 0.7764\n",
            "Epoch 41/50\n",
            " - 7s - loss: 0.4110 - acc: 0.8186 - val_loss: 0.4730 - val_acc: 0.7743\n",
            "Epoch 42/50\n",
            " - 7s - loss: 0.4093 - acc: 0.8180 - val_loss: 0.4717 - val_acc: 0.7726\n",
            "Epoch 43/50\n",
            " - 7s - loss: 0.4058 - acc: 0.8211 - val_loss: 0.4706 - val_acc: 0.7802\n",
            "Epoch 44/50\n",
            " - 7s - loss: 0.4032 - acc: 0.8221 - val_loss: 0.4688 - val_acc: 0.7789\n",
            "Epoch 45/50\n",
            " - 7s - loss: 0.4038 - acc: 0.8194 - val_loss: 0.4728 - val_acc: 0.7680\n",
            "Epoch 46/50\n",
            " - 7s - loss: 0.3972 - acc: 0.8250 - val_loss: 0.4674 - val_acc: 0.7798\n",
            "Epoch 47/50\n",
            " - 7s - loss: 0.3983 - acc: 0.8243 - val_loss: 0.4671 - val_acc: 0.7773\n",
            "Epoch 48/50\n",
            " - 7s - loss: 0.3933 - acc: 0.8275 - val_loss: 0.4645 - val_acc: 0.7785\n",
            "Epoch 49/50\n",
            " - 7s - loss: 0.3911 - acc: 0.8279 - val_loss: 0.4796 - val_acc: 0.7684\n",
            "Epoch 50/50\n",
            " - 7s - loss: 0.3891 - acc: 0.8301 - val_loss: 0.4685 - val_acc: 0.7739\n"
          ],
          "name": "stdout"
        },
        {
          "output_type": "execute_result",
          "data": {
            "text/plain": [
              "<keras.callbacks.History at 0x7f4236a59ac8>"
            ]
          },
          "metadata": {
            "tags": []
          },
          "execution_count": 62
        }
      ]
    },
    {
      "metadata": {
        "id": "ojfR89u5QIif",
        "colab_type": "code",
        "colab": {
          "base_uri": "https://localhost:8080/",
          "height": 55
        },
        "outputId": "2bf2e0b1-f283-48e9-df33-dfeeb77b6ee0"
      },
      "cell_type": "code",
      "source": [
        "score2=model2.evaluate(x=X_test, y=y_test)\n",
        "print(score2)"
      ],
      "execution_count": 64,
      "outputs": [
        {
          "output_type": "stream",
          "text": [
            "1250/1250 [==============================] - 0s 292us/step\n",
            "[0.4587086442947388, 0.7944]\n"
          ],
          "name": "stdout"
        }
      ]
    },
    {
      "metadata": {
        "id": "c1AzHfxAObyv",
        "colab_type": "code",
        "colab": {
          "base_uri": "https://localhost:8080/",
          "height": 447
        },
        "outputId": "24820913-45c3-45aa-80b0-e061afbd10ef"
      },
      "cell_type": "code",
      "source": [
        "model2.summary()"
      ],
      "execution_count": 63,
      "outputs": [
        {
          "output_type": "stream",
          "text": [
            "_________________________________________________________________\n",
            "Layer (type)                 Output Shape              Param #   \n",
            "=================================================================\n",
            "conv2d_15 (Conv2D)           (None, 62, 62, 32)        896       \n",
            "_________________________________________________________________\n",
            "max_pooling2d_13 (MaxPooling (None, 31, 31, 32)        0         \n",
            "_________________________________________________________________\n",
            "conv2d_16 (Conv2D)           (None, 29, 29, 64)        18496     \n",
            "_________________________________________________________________\n",
            "max_pooling2d_14 (MaxPooling (None, 14, 14, 64)        0         \n",
            "_________________________________________________________________\n",
            "flatten_5 (Flatten)          (None, 12544)             0         \n",
            "_________________________________________________________________\n",
            "dense_13 (Dense)             (None, 128)               1605760   \n",
            "_________________________________________________________________\n",
            "dense_14 (Dense)             (None, 128)               16512     \n",
            "_________________________________________________________________\n",
            "dense_15 (Dense)             (None, 2)                 258       \n",
            "=================================================================\n",
            "Total params: 1,641,922\n",
            "Trainable params: 1,641,922\n",
            "Non-trainable params: 0\n",
            "_________________________________________________________________\n"
          ],
          "name": "stdout"
        }
      ]
    },
    {
      "metadata": {
        "id": "TBRLQXQHQGa0",
        "colab_type": "code",
        "colab": {}
      },
      "cell_type": "code",
      "source": [
        ""
      ],
      "execution_count": 0,
      "outputs": []
    }
  ]
}